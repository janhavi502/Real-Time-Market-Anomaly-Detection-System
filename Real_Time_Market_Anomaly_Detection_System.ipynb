{
  "nbformat": 4,
  "nbformat_minor": 0,
  "metadata": {
    "colab": {
      "provenance": []
    },
    "kernelspec": {
      "name": "python3",
      "display_name": "Python 3"
    },
    "language_info": {
      "name": "python"
    }
  },
  "cells": [
    {
      "cell_type": "markdown",
      "source": [
        "### **What is Market Anomaly Detection?** <br>\n",
        "Market anomalies are unusual patterns in financial markets that deviate from normal behavior. These could be:\n",
        "\n",
        "- Price anomalies: Sudden price jumps/drops without news\n",
        "- Volume anomalies: Unusual trading volume spikes\n",
        "- Correlation anomalies: Normal relationships between assets breaking down\n",
        "- Technical anomalies: Chart patterns that historically signal opportunities"
      ],
      "metadata": {
        "id": "hBqoD3-5prgs"
      }
    },
    {
      "cell_type": "markdown",
      "source": [
        "## **1. Objective**\n",
        "Build a system to detect unusual market behavior (price spikes, volume anomalies, correlation breaks) and visualize alerts in real-time"
      ],
      "metadata": {
        "id": "et6zfKrsSFUw"
      }
    },
    {
      "cell_type": "markdown",
      "source": [
        "## **2. Data Pipeline Setup**"
      ],
      "metadata": {
        "id": "5tL9KzhKpwfu"
      }
    },
    {
      "cell_type": "code",
      "execution_count": 11,
      "metadata": {
        "colab": {
          "base_uri": "https://localhost:8080/"
        },
        "collapsed": true,
        "id": "B_HVuydXpluL",
        "outputId": "a5990d5c-4482-42f7-8815-4a08a4a59501"
      },
      "outputs": [
        {
          "output_type": "stream",
          "name": "stdout",
          "text": [
            "Requirement already satisfied: yfinance in /usr/local/lib/python3.11/dist-packages (0.2.61)\n",
            "Requirement already satisfied: plotly in /usr/local/lib/python3.11/dist-packages (5.24.1)\n",
            "Requirement already satisfied: scikit-learn in /usr/local/lib/python3.11/dist-packages (1.6.1)\n",
            "Requirement already satisfied: streamlit in /usr/local/lib/python3.11/dist-packages (1.45.1)\n",
            "Requirement already satisfied: pandas in /usr/local/lib/python3.11/dist-packages (2.2.2)\n",
            "Requirement already satisfied: numpy in /usr/local/lib/python3.11/dist-packages (2.0.2)\n",
            "Requirement already satisfied: requests>=2.31 in /usr/local/lib/python3.11/dist-packages (from yfinance) (2.32.3)\n",
            "Requirement already satisfied: multitasking>=0.0.7 in /usr/local/lib/python3.11/dist-packages (from yfinance) (0.0.11)\n",
            "Requirement already satisfied: platformdirs>=2.0.0 in /usr/local/lib/python3.11/dist-packages (from yfinance) (4.3.8)\n",
            "Requirement already satisfied: pytz>=2022.5 in /usr/local/lib/python3.11/dist-packages (from yfinance) (2025.2)\n",
            "Requirement already satisfied: frozendict>=2.3.4 in /usr/local/lib/python3.11/dist-packages (from yfinance) (2.4.6)\n",
            "Requirement already satisfied: peewee>=3.16.2 in /usr/local/lib/python3.11/dist-packages (from yfinance) (3.18.1)\n",
            "Requirement already satisfied: beautifulsoup4>=4.11.1 in /usr/local/lib/python3.11/dist-packages (from yfinance) (4.13.4)\n",
            "Requirement already satisfied: curl_cffi>=0.7 in /usr/local/lib/python3.11/dist-packages (from yfinance) (0.10.0)\n",
            "Requirement already satisfied: protobuf>=3.19.0 in /usr/local/lib/python3.11/dist-packages (from yfinance) (5.29.4)\n",
            "Requirement already satisfied: websockets>=13.0 in /usr/local/lib/python3.11/dist-packages (from yfinance) (14.2)\n",
            "Requirement already satisfied: tenacity>=6.2.0 in /usr/local/lib/python3.11/dist-packages (from plotly) (9.1.2)\n",
            "Requirement already satisfied: packaging in /usr/local/lib/python3.11/dist-packages (from plotly) (24.2)\n",
            "Requirement already satisfied: scipy>=1.6.0 in /usr/local/lib/python3.11/dist-packages (from scikit-learn) (1.15.3)\n",
            "Requirement already satisfied: joblib>=1.2.0 in /usr/local/lib/python3.11/dist-packages (from scikit-learn) (1.5.0)\n",
            "Requirement already satisfied: threadpoolctl>=3.1.0 in /usr/local/lib/python3.11/dist-packages (from scikit-learn) (3.6.0)\n",
            "Requirement already satisfied: altair<6,>=4.0 in /usr/local/lib/python3.11/dist-packages (from streamlit) (5.5.0)\n",
            "Requirement already satisfied: blinker<2,>=1.5.0 in /usr/local/lib/python3.11/dist-packages (from streamlit) (1.9.0)\n",
            "Requirement already satisfied: cachetools<6,>=4.0 in /usr/local/lib/python3.11/dist-packages (from streamlit) (5.5.2)\n",
            "Requirement already satisfied: click<9,>=7.0 in /usr/local/lib/python3.11/dist-packages (from streamlit) (8.2.0)\n",
            "Requirement already satisfied: pillow<12,>=7.1.0 in /usr/local/lib/python3.11/dist-packages (from streamlit) (11.2.1)\n",
            "Requirement already satisfied: pyarrow>=7.0 in /usr/local/lib/python3.11/dist-packages (from streamlit) (18.1.0)\n",
            "Requirement already satisfied: toml<2,>=0.10.1 in /usr/local/lib/python3.11/dist-packages (from streamlit) (0.10.2)\n",
            "Requirement already satisfied: typing-extensions<5,>=4.4.0 in /usr/local/lib/python3.11/dist-packages (from streamlit) (4.13.2)\n",
            "Requirement already satisfied: watchdog<7,>=2.1.5 in /usr/local/lib/python3.11/dist-packages (from streamlit) (6.0.0)\n",
            "Requirement already satisfied: gitpython!=3.1.19,<4,>=3.0.7 in /usr/local/lib/python3.11/dist-packages (from streamlit) (3.1.44)\n",
            "Requirement already satisfied: pydeck<1,>=0.8.0b4 in /usr/local/lib/python3.11/dist-packages (from streamlit) (0.9.1)\n",
            "Requirement already satisfied: tornado<7,>=6.0.3 in /usr/local/lib/python3.11/dist-packages (from streamlit) (6.4.2)\n",
            "Requirement already satisfied: python-dateutil>=2.8.2 in /usr/local/lib/python3.11/dist-packages (from pandas) (2.9.0.post0)\n",
            "Requirement already satisfied: tzdata>=2022.7 in /usr/local/lib/python3.11/dist-packages (from pandas) (2025.2)\n",
            "Requirement already satisfied: jinja2 in /usr/local/lib/python3.11/dist-packages (from altair<6,>=4.0->streamlit) (3.1.6)\n",
            "Requirement already satisfied: jsonschema>=3.0 in /usr/local/lib/python3.11/dist-packages (from altair<6,>=4.0->streamlit) (4.23.0)\n",
            "Requirement already satisfied: narwhals>=1.14.2 in /usr/local/lib/python3.11/dist-packages (from altair<6,>=4.0->streamlit) (1.39.0)\n",
            "Requirement already satisfied: soupsieve>1.2 in /usr/local/lib/python3.11/dist-packages (from beautifulsoup4>=4.11.1->yfinance) (2.7)\n",
            "Requirement already satisfied: cffi>=1.12.0 in /usr/local/lib/python3.11/dist-packages (from curl_cffi>=0.7->yfinance) (1.17.1)\n",
            "Requirement already satisfied: certifi>=2024.2.2 in /usr/local/lib/python3.11/dist-packages (from curl_cffi>=0.7->yfinance) (2025.4.26)\n",
            "Requirement already satisfied: gitdb<5,>=4.0.1 in /usr/local/lib/python3.11/dist-packages (from gitpython!=3.1.19,<4,>=3.0.7->streamlit) (4.0.12)\n",
            "Requirement already satisfied: six>=1.5 in /usr/local/lib/python3.11/dist-packages (from python-dateutil>=2.8.2->pandas) (1.17.0)\n",
            "Requirement already satisfied: charset-normalizer<4,>=2 in /usr/local/lib/python3.11/dist-packages (from requests>=2.31->yfinance) (3.4.2)\n",
            "Requirement already satisfied: idna<4,>=2.5 in /usr/local/lib/python3.11/dist-packages (from requests>=2.31->yfinance) (3.10)\n",
            "Requirement already satisfied: urllib3<3,>=1.21.1 in /usr/local/lib/python3.11/dist-packages (from requests>=2.31->yfinance) (2.4.0)\n",
            "Requirement already satisfied: pycparser in /usr/local/lib/python3.11/dist-packages (from cffi>=1.12.0->curl_cffi>=0.7->yfinance) (2.22)\n",
            "Requirement already satisfied: smmap<6,>=3.0.1 in /usr/local/lib/python3.11/dist-packages (from gitdb<5,>=4.0.1->gitpython!=3.1.19,<4,>=3.0.7->streamlit) (5.0.2)\n",
            "Requirement already satisfied: MarkupSafe>=2.0 in /usr/local/lib/python3.11/dist-packages (from jinja2->altair<6,>=4.0->streamlit) (3.0.2)\n",
            "Requirement already satisfied: attrs>=22.2.0 in /usr/local/lib/python3.11/dist-packages (from jsonschema>=3.0->altair<6,>=4.0->streamlit) (25.3.0)\n",
            "Requirement already satisfied: jsonschema-specifications>=2023.03.6 in /usr/local/lib/python3.11/dist-packages (from jsonschema>=3.0->altair<6,>=4.0->streamlit) (2025.4.1)\n",
            "Requirement already satisfied: referencing>=0.28.4 in /usr/local/lib/python3.11/dist-packages (from jsonschema>=3.0->altair<6,>=4.0->streamlit) (0.36.2)\n",
            "Requirement already satisfied: rpds-py>=0.7.1 in /usr/local/lib/python3.11/dist-packages (from jsonschema>=3.0->altair<6,>=4.0->streamlit) (0.24.0)\n"
          ]
        }
      ],
      "source": [
        "!pip install yfinance plotly scikit-learn streamlit pandas numpy\n"
      ]
    },
    {
      "cell_type": "markdown",
      "source": [
        "## **3. Data Collection (Simulating Real-Time with Yahoo Finance)**"
      ],
      "metadata": {
        "id": "vzqTcwVep0y_"
      }
    },
    {
      "cell_type": "code",
      "source": [
        "import yfinance as yf\n",
        "import pandas as pd\n",
        "import numpy as np\n",
        "from datetime import datetime, timedelta\n",
        "\n",
        "ticker = 'AAPL'\n",
        "data = yf.download(tickers=ticker, period='1d', interval='1m')\n",
        "data.dropna(inplace=True)\n",
        "data['returns'] = data['Close'].pct_change().fillna(0)\n",
        "data.tail()"
      ],
      "metadata": {
        "colab": {
          "base_uri": "https://localhost:8080/",
          "height": 305
        },
        "id": "GeUIHt0ip2_G",
        "outputId": "d31620f8-a81e-4a26-c28c-58d87217c157"
      },
      "execution_count": 12,
      "outputs": [
        {
          "output_type": "stream",
          "name": "stdout",
          "text": [
            "YF.download() has changed argument auto_adjust default to True\n"
          ]
        },
        {
          "output_type": "stream",
          "name": "stderr",
          "text": [
            "\r[*********************100%***********************]  1 of 1 completed\n"
          ]
        },
        {
          "output_type": "execute_result",
          "data": {
            "text/plain": [
              "Price                           Close        High         Low        Open  \\\n",
              "Ticker                           AAPL        AAPL        AAPL        AAPL   \n",
              "Datetime                                                                    \n",
              "2025-05-23 19:55:00+00:00  195.279999  195.360001  195.029999  195.320007   \n",
              "2025-05-23 19:56:00+00:00  195.511307  195.630005  195.259995  195.284393   \n",
              "2025-05-23 19:57:00+00:00  195.404999  195.520004  195.320007  195.520004   \n",
              "2025-05-23 19:58:00+00:00  195.544998  195.600006  195.389999  195.410004   \n",
              "2025-05-23 19:59:00+00:00  195.339996  195.544998  195.140106  195.539993   \n",
              "\n",
              "Price                       Volume   returns  \n",
              "Ticker                        AAPL            \n",
              "Datetime                                      \n",
              "2025-05-23 19:55:00+00:00   457306 -0.000249  \n",
              "2025-05-23 19:56:00+00:00   429961  0.001184  \n",
              "2025-05-23 19:57:00+00:00   462225 -0.000544  \n",
              "2025-05-23 19:58:00+00:00   635039  0.000716  \n",
              "2025-05-23 19:59:00+00:00  1370945 -0.001048  "
            ],
            "text/html": [
              "\n",
              "  <div id=\"df-26d12af6-2e10-4235-93a4-9ab52f0985f8\" class=\"colab-df-container\">\n",
              "    <div>\n",
              "<style scoped>\n",
              "    .dataframe tbody tr th:only-of-type {\n",
              "        vertical-align: middle;\n",
              "    }\n",
              "\n",
              "    .dataframe tbody tr th {\n",
              "        vertical-align: top;\n",
              "    }\n",
              "\n",
              "    .dataframe thead tr th {\n",
              "        text-align: left;\n",
              "    }\n",
              "\n",
              "    .dataframe thead tr:last-of-type th {\n",
              "        text-align: right;\n",
              "    }\n",
              "</style>\n",
              "<table border=\"1\" class=\"dataframe\">\n",
              "  <thead>\n",
              "    <tr>\n",
              "      <th>Price</th>\n",
              "      <th>Close</th>\n",
              "      <th>High</th>\n",
              "      <th>Low</th>\n",
              "      <th>Open</th>\n",
              "      <th>Volume</th>\n",
              "      <th>returns</th>\n",
              "    </tr>\n",
              "    <tr>\n",
              "      <th>Ticker</th>\n",
              "      <th>AAPL</th>\n",
              "      <th>AAPL</th>\n",
              "      <th>AAPL</th>\n",
              "      <th>AAPL</th>\n",
              "      <th>AAPL</th>\n",
              "      <th></th>\n",
              "    </tr>\n",
              "    <tr>\n",
              "      <th>Datetime</th>\n",
              "      <th></th>\n",
              "      <th></th>\n",
              "      <th></th>\n",
              "      <th></th>\n",
              "      <th></th>\n",
              "      <th></th>\n",
              "    </tr>\n",
              "  </thead>\n",
              "  <tbody>\n",
              "    <tr>\n",
              "      <th>2025-05-23 19:55:00+00:00</th>\n",
              "      <td>195.279999</td>\n",
              "      <td>195.360001</td>\n",
              "      <td>195.029999</td>\n",
              "      <td>195.320007</td>\n",
              "      <td>457306</td>\n",
              "      <td>-0.000249</td>\n",
              "    </tr>\n",
              "    <tr>\n",
              "      <th>2025-05-23 19:56:00+00:00</th>\n",
              "      <td>195.511307</td>\n",
              "      <td>195.630005</td>\n",
              "      <td>195.259995</td>\n",
              "      <td>195.284393</td>\n",
              "      <td>429961</td>\n",
              "      <td>0.001184</td>\n",
              "    </tr>\n",
              "    <tr>\n",
              "      <th>2025-05-23 19:57:00+00:00</th>\n",
              "      <td>195.404999</td>\n",
              "      <td>195.520004</td>\n",
              "      <td>195.320007</td>\n",
              "      <td>195.520004</td>\n",
              "      <td>462225</td>\n",
              "      <td>-0.000544</td>\n",
              "    </tr>\n",
              "    <tr>\n",
              "      <th>2025-05-23 19:58:00+00:00</th>\n",
              "      <td>195.544998</td>\n",
              "      <td>195.600006</td>\n",
              "      <td>195.389999</td>\n",
              "      <td>195.410004</td>\n",
              "      <td>635039</td>\n",
              "      <td>0.000716</td>\n",
              "    </tr>\n",
              "    <tr>\n",
              "      <th>2025-05-23 19:59:00+00:00</th>\n",
              "      <td>195.339996</td>\n",
              "      <td>195.544998</td>\n",
              "      <td>195.140106</td>\n",
              "      <td>195.539993</td>\n",
              "      <td>1370945</td>\n",
              "      <td>-0.001048</td>\n",
              "    </tr>\n",
              "  </tbody>\n",
              "</table>\n",
              "</div>\n",
              "    <div class=\"colab-df-buttons\">\n",
              "\n",
              "  <div class=\"colab-df-container\">\n",
              "    <button class=\"colab-df-convert\" onclick=\"convertToInteractive('df-26d12af6-2e10-4235-93a4-9ab52f0985f8')\"\n",
              "            title=\"Convert this dataframe to an interactive table.\"\n",
              "            style=\"display:none;\">\n",
              "\n",
              "  <svg xmlns=\"http://www.w3.org/2000/svg\" height=\"24px\" viewBox=\"0 -960 960 960\">\n",
              "    <path d=\"M120-120v-720h720v720H120Zm60-500h600v-160H180v160Zm220 220h160v-160H400v160Zm0 220h160v-160H400v160ZM180-400h160v-160H180v160Zm440 0h160v-160H620v160ZM180-180h160v-160H180v160Zm440 0h160v-160H620v160Z\"/>\n",
              "  </svg>\n",
              "    </button>\n",
              "\n",
              "  <style>\n",
              "    .colab-df-container {\n",
              "      display:flex;\n",
              "      gap: 12px;\n",
              "    }\n",
              "\n",
              "    .colab-df-convert {\n",
              "      background-color: #E8F0FE;\n",
              "      border: none;\n",
              "      border-radius: 50%;\n",
              "      cursor: pointer;\n",
              "      display: none;\n",
              "      fill: #1967D2;\n",
              "      height: 32px;\n",
              "      padding: 0 0 0 0;\n",
              "      width: 32px;\n",
              "    }\n",
              "\n",
              "    .colab-df-convert:hover {\n",
              "      background-color: #E2EBFA;\n",
              "      box-shadow: 0px 1px 2px rgba(60, 64, 67, 0.3), 0px 1px 3px 1px rgba(60, 64, 67, 0.15);\n",
              "      fill: #174EA6;\n",
              "    }\n",
              "\n",
              "    .colab-df-buttons div {\n",
              "      margin-bottom: 4px;\n",
              "    }\n",
              "\n",
              "    [theme=dark] .colab-df-convert {\n",
              "      background-color: #3B4455;\n",
              "      fill: #D2E3FC;\n",
              "    }\n",
              "\n",
              "    [theme=dark] .colab-df-convert:hover {\n",
              "      background-color: #434B5C;\n",
              "      box-shadow: 0px 1px 3px 1px rgba(0, 0, 0, 0.15);\n",
              "      filter: drop-shadow(0px 1px 2px rgba(0, 0, 0, 0.3));\n",
              "      fill: #FFFFFF;\n",
              "    }\n",
              "  </style>\n",
              "\n",
              "    <script>\n",
              "      const buttonEl =\n",
              "        document.querySelector('#df-26d12af6-2e10-4235-93a4-9ab52f0985f8 button.colab-df-convert');\n",
              "      buttonEl.style.display =\n",
              "        google.colab.kernel.accessAllowed ? 'block' : 'none';\n",
              "\n",
              "      async function convertToInteractive(key) {\n",
              "        const element = document.querySelector('#df-26d12af6-2e10-4235-93a4-9ab52f0985f8');\n",
              "        const dataTable =\n",
              "          await google.colab.kernel.invokeFunction('convertToInteractive',\n",
              "                                                    [key], {});\n",
              "        if (!dataTable) return;\n",
              "\n",
              "        const docLinkHtml = 'Like what you see? Visit the ' +\n",
              "          '<a target=\"_blank\" href=https://colab.research.google.com/notebooks/data_table.ipynb>data table notebook</a>'\n",
              "          + ' to learn more about interactive tables.';\n",
              "        element.innerHTML = '';\n",
              "        dataTable['output_type'] = 'display_data';\n",
              "        await google.colab.output.renderOutput(dataTable, element);\n",
              "        const docLink = document.createElement('div');\n",
              "        docLink.innerHTML = docLinkHtml;\n",
              "        element.appendChild(docLink);\n",
              "      }\n",
              "    </script>\n",
              "  </div>\n",
              "\n",
              "\n",
              "    <div id=\"df-cc6d029d-0be2-4b04-b442-5dae5bfea912\">\n",
              "      <button class=\"colab-df-quickchart\" onclick=\"quickchart('df-cc6d029d-0be2-4b04-b442-5dae5bfea912')\"\n",
              "                title=\"Suggest charts\"\n",
              "                style=\"display:none;\">\n",
              "\n",
              "<svg xmlns=\"http://www.w3.org/2000/svg\" height=\"24px\"viewBox=\"0 0 24 24\"\n",
              "     width=\"24px\">\n",
              "    <g>\n",
              "        <path d=\"M19 3H5c-1.1 0-2 .9-2 2v14c0 1.1.9 2 2 2h14c1.1 0 2-.9 2-2V5c0-1.1-.9-2-2-2zM9 17H7v-7h2v7zm4 0h-2V7h2v10zm4 0h-2v-4h2v4z\"/>\n",
              "    </g>\n",
              "</svg>\n",
              "      </button>\n",
              "\n",
              "<style>\n",
              "  .colab-df-quickchart {\n",
              "      --bg-color: #E8F0FE;\n",
              "      --fill-color: #1967D2;\n",
              "      --hover-bg-color: #E2EBFA;\n",
              "      --hover-fill-color: #174EA6;\n",
              "      --disabled-fill-color: #AAA;\n",
              "      --disabled-bg-color: #DDD;\n",
              "  }\n",
              "\n",
              "  [theme=dark] .colab-df-quickchart {\n",
              "      --bg-color: #3B4455;\n",
              "      --fill-color: #D2E3FC;\n",
              "      --hover-bg-color: #434B5C;\n",
              "      --hover-fill-color: #FFFFFF;\n",
              "      --disabled-bg-color: #3B4455;\n",
              "      --disabled-fill-color: #666;\n",
              "  }\n",
              "\n",
              "  .colab-df-quickchart {\n",
              "    background-color: var(--bg-color);\n",
              "    border: none;\n",
              "    border-radius: 50%;\n",
              "    cursor: pointer;\n",
              "    display: none;\n",
              "    fill: var(--fill-color);\n",
              "    height: 32px;\n",
              "    padding: 0;\n",
              "    width: 32px;\n",
              "  }\n",
              "\n",
              "  .colab-df-quickchart:hover {\n",
              "    background-color: var(--hover-bg-color);\n",
              "    box-shadow: 0 1px 2px rgba(60, 64, 67, 0.3), 0 1px 3px 1px rgba(60, 64, 67, 0.15);\n",
              "    fill: var(--button-hover-fill-color);\n",
              "  }\n",
              "\n",
              "  .colab-df-quickchart-complete:disabled,\n",
              "  .colab-df-quickchart-complete:disabled:hover {\n",
              "    background-color: var(--disabled-bg-color);\n",
              "    fill: var(--disabled-fill-color);\n",
              "    box-shadow: none;\n",
              "  }\n",
              "\n",
              "  .colab-df-spinner {\n",
              "    border: 2px solid var(--fill-color);\n",
              "    border-color: transparent;\n",
              "    border-bottom-color: var(--fill-color);\n",
              "    animation:\n",
              "      spin 1s steps(1) infinite;\n",
              "  }\n",
              "\n",
              "  @keyframes spin {\n",
              "    0% {\n",
              "      border-color: transparent;\n",
              "      border-bottom-color: var(--fill-color);\n",
              "      border-left-color: var(--fill-color);\n",
              "    }\n",
              "    20% {\n",
              "      border-color: transparent;\n",
              "      border-left-color: var(--fill-color);\n",
              "      border-top-color: var(--fill-color);\n",
              "    }\n",
              "    30% {\n",
              "      border-color: transparent;\n",
              "      border-left-color: var(--fill-color);\n",
              "      border-top-color: var(--fill-color);\n",
              "      border-right-color: var(--fill-color);\n",
              "    }\n",
              "    40% {\n",
              "      border-color: transparent;\n",
              "      border-right-color: var(--fill-color);\n",
              "      border-top-color: var(--fill-color);\n",
              "    }\n",
              "    60% {\n",
              "      border-color: transparent;\n",
              "      border-right-color: var(--fill-color);\n",
              "    }\n",
              "    80% {\n",
              "      border-color: transparent;\n",
              "      border-right-color: var(--fill-color);\n",
              "      border-bottom-color: var(--fill-color);\n",
              "    }\n",
              "    90% {\n",
              "      border-color: transparent;\n",
              "      border-bottom-color: var(--fill-color);\n",
              "    }\n",
              "  }\n",
              "</style>\n",
              "\n",
              "      <script>\n",
              "        async function quickchart(key) {\n",
              "          const quickchartButtonEl =\n",
              "            document.querySelector('#' + key + ' button');\n",
              "          quickchartButtonEl.disabled = true;  // To prevent multiple clicks.\n",
              "          quickchartButtonEl.classList.add('colab-df-spinner');\n",
              "          try {\n",
              "            const charts = await google.colab.kernel.invokeFunction(\n",
              "                'suggestCharts', [key], {});\n",
              "          } catch (error) {\n",
              "            console.error('Error during call to suggestCharts:', error);\n",
              "          }\n",
              "          quickchartButtonEl.classList.remove('colab-df-spinner');\n",
              "          quickchartButtonEl.classList.add('colab-df-quickchart-complete');\n",
              "        }\n",
              "        (() => {\n",
              "          let quickchartButtonEl =\n",
              "            document.querySelector('#df-cc6d029d-0be2-4b04-b442-5dae5bfea912 button');\n",
              "          quickchartButtonEl.style.display =\n",
              "            google.colab.kernel.accessAllowed ? 'block' : 'none';\n",
              "        })();\n",
              "      </script>\n",
              "    </div>\n",
              "\n",
              "    </div>\n",
              "  </div>\n"
            ],
            "application/vnd.google.colaboratory.intrinsic+json": {
              "type": "dataframe",
              "summary": "{\n  \"name\": \"data\",\n  \"rows\": 5,\n  \"fields\": [\n    {\n      \"column\": [\n        \"Datetime\",\n        \"\"\n      ],\n      \"properties\": {\n        \"dtype\": \"date\",\n        \"min\": \"2025-05-23 19:55:00+00:00\",\n        \"max\": \"2025-05-23 19:59:00+00:00\",\n        \"num_unique_values\": 5,\n        \"samples\": [\n          \"2025-05-23 19:56:00+00:00\",\n          \"2025-05-23 19:59:00+00:00\",\n          \"2025-05-23 19:57:00+00:00\"\n        ],\n        \"semantic_type\": \"\",\n        \"description\": \"\"\n      }\n    },\n    {\n      \"column\": [\n        \"Close\",\n        \"AAPL\"\n      ],\n      \"properties\": {\n        \"dtype\": \"number\",\n        \"std\": 0.11193467376056823,\n        \"min\": 195.27999877929688,\n        \"max\": 195.5449981689453,\n        \"num_unique_values\": 5,\n        \"samples\": [\n          195.5113067626953,\n          195.33999633789062,\n          195.40499877929688\n        ],\n        \"semantic_type\": \"\",\n        \"description\": \"\"\n      }\n    },\n    {\n      \"column\": [\n        \"High\",\n        \"AAPL\"\n      ],\n      \"properties\": {\n        \"dtype\": \"number\",\n        \"std\": 0.1050255387058136,\n        \"min\": 195.36000061035156,\n        \"max\": 195.6300048828125,\n        \"num_unique_values\": 5,\n        \"samples\": [\n          195.6300048828125,\n          195.5449981689453,\n          195.52000427246094\n        ],\n        \"semantic_type\": \"\",\n        \"description\": \"\"\n      }\n    },\n    {\n      \"column\": [\n        \"Low\",\n        \"AAPL\"\n      ],\n      \"properties\": {\n        \"dtype\": \"number\",\n        \"std\": 0.14375552114672333,\n        \"min\": 195.02999877929688,\n        \"max\": 195.38999938964844,\n        \"num_unique_values\": 5,\n        \"samples\": [\n          195.25999450683594,\n          195.14010620117188,\n          195.32000732421875\n        ],\n        \"semantic_type\": \"\",\n        \"description\": \"\"\n      }\n    },\n    {\n      \"column\": [\n        \"Open\",\n        \"AAPL\"\n      ],\n      \"properties\": {\n        \"dtype\": \"number\",\n        \"std\": 0.11484318267996788,\n        \"min\": 195.28439331054688,\n        \"max\": 195.5399932861328,\n        \"num_unique_values\": 5,\n        \"samples\": [\n          195.28439331054688,\n          195.5399932861328,\n          195.52000427246094\n        ],\n        \"semantic_type\": \"\",\n        \"description\": \"\"\n      }\n    },\n    {\n      \"column\": [\n        \"Volume\",\n        \"AAPL\"\n      ],\n      \"properties\": {\n        \"dtype\": \"number\",\n        \"std\": 399552,\n        \"min\": 429961,\n        \"max\": 1370945,\n        \"num_unique_values\": 5,\n        \"samples\": [\n          429961,\n          1370945,\n          462225\n        ],\n        \"semantic_type\": \"\",\n        \"description\": \"\"\n      }\n    },\n    {\n      \"column\": [\n        \"returns\",\n        \"\"\n      ],\n      \"properties\": {\n        \"dtype\": \"number\",\n        \"std\": 0.000918183025687527,\n        \"min\": -0.0010483614153995457,\n        \"max\": 0.001184493982201662,\n        \"num_unique_values\": 5,\n        \"samples\": [\n          0.001184493982201662,\n          -0.0010483614153995457,\n          -0.0005437434036870137\n        ],\n        \"semantic_type\": \"\",\n        \"description\": \"\"\n      }\n    }\n  ]\n}"
            }
          },
          "metadata": {},
          "execution_count": 12
        }
      ]
    },
    {
      "cell_type": "code",
      "source": [
        "# Save the downloaded 1-minute intraday data to CSV\n",
        "data.to_csv(\"AAPL_intraday_1min.csv\")\n",
        "\n",
        "print(\"✅ Intraday data saved as 'AAPL_intraday_1min.csv'\")"
      ],
      "metadata": {
        "colab": {
          "base_uri": "https://localhost:8080/"
        },
        "id": "hPyC0hwaIRfG",
        "outputId": "ce329698-19d8-40cd-a92c-1952131c1e45"
      },
      "execution_count": 13,
      "outputs": [
        {
          "output_type": "stream",
          "name": "stdout",
          "text": [
            "✅ Intraday data saved as 'AAPL_intraday_1min.csv'\n"
          ]
        }
      ]
    },
    {
      "cell_type": "markdown",
      "source": [
        "## **4. Anomaly Detection**\n",
        "4.1 Isolation Forest for Price Outliers"
      ],
      "metadata": {
        "id": "97lD3HbDp4oA"
      }
    },
    {
      "cell_type": "code",
      "source": [
        "from sklearn.ensemble import IsolationForest\n",
        "\n",
        "model_iso = IsolationForest(contamination=0.01, random_state=42)\n",
        "data['anomaly_price'] = model_iso.fit_predict(data[['Close']])"
      ],
      "metadata": {
        "id": "hE1vvY4Fp607"
      },
      "execution_count": 14,
      "outputs": []
    },
    {
      "cell_type": "markdown",
      "source": [
        "4.2 Volume Spike Detection"
      ],
      "metadata": {
        "id": "qRJKQE69p8tO"
      }
    },
    {
      "cell_type": "code",
      "source": [
        "print(type(data['Volume']))          # should be <class 'pandas.core.series.Series'>\n",
        "print(type(data['mean_vol']))        # should be <class 'pandas.core.series.Series'>\n",
        "print(data[['Volume', 'mean_vol']].head())  # quick inspection\n"
      ],
      "metadata": {
        "colab": {
          "base_uri": "https://localhost:8080/"
        },
        "id": "_L7QX4VpKFrO",
        "outputId": "f242c64e-d615-476c-dc92-7874117a69be"
      },
      "execution_count": 20,
      "outputs": [
        {
          "output_type": "stream",
          "name": "stdout",
          "text": [
            "<class 'pandas.core.frame.DataFrame'>\n",
            "<class 'pandas.core.series.Series'>\n",
            "Price                       Volume mean_vol\n",
            "Ticker                        AAPL         \n",
            "Datetime                                   \n",
            "2025-05-23 13:30:00+00:00  8294792      NaN\n",
            "2025-05-23 13:31:00+00:00   810703      NaN\n",
            "2025-05-23 13:32:00+00:00   734901      NaN\n",
            "2025-05-23 13:33:00+00:00   640558      NaN\n",
            "2025-05-23 13:34:00+00:00   422567      NaN\n"
          ]
        }
      ]
    },
    {
      "cell_type": "code",
      "source": [
        "# Flatten MultiIndex columns\n",
        "data.columns = ['_'.join(col).strip() if isinstance(col, tuple) else col for col in data.columns]"
      ],
      "metadata": {
        "id": "Mwis3TzNKWQ_"
      },
      "execution_count": 21,
      "outputs": []
    },
    {
      "cell_type": "code",
      "source": [
        "print(data.columns)"
      ],
      "metadata": {
        "colab": {
          "base_uri": "https://localhost:8080/"
        },
        "id": "IR6oigpZKYSL",
        "outputId": "13c16585-9d72-478b-d9e5-3079e77b5b91"
      },
      "execution_count": 22,
      "outputs": [
        {
          "output_type": "stream",
          "name": "stdout",
          "text": [
            "Index(['Close_AAPL', 'High_AAPL', 'Low_AAPL', 'Open_AAPL', 'Volume_AAPL',\n",
            "       'returns_', 'anomaly_price_', 'mean_vol_'],\n",
            "      dtype='object')\n"
          ]
        }
      ]
    },
    {
      "cell_type": "code",
      "source": [
        "# Use the correct column name after flattening\n",
        "data['mean_vol'] = data['Volume_AAPL'].rolling(window=10).mean().bfill()\n",
        "data['vol_spike'] = (data['Volume_AAPL'] > 3 * data['mean_vol']).astype(int)"
      ],
      "metadata": {
        "id": "GAEGLZNPKduD"
      },
      "execution_count": 23,
      "outputs": []
    },
    {
      "cell_type": "code",
      "source": [
        "# ✅ Use the correct volume column after flattening\n",
        "data['Volume_AAPL'] = pd.to_numeric(data['Volume_AAPL'], errors='coerce')\n",
        "data.index = pd.to_datetime(data.index)\n",
        "data.sort_index(inplace=True)\n",
        "\n",
        "# ✅ STEP 1: Calculate mean volume\n",
        "mean_vol = data['Volume_AAPL'].rolling(window=10).mean()\n",
        "\n",
        "# ✅ STEP 2: Backfill NaNs\n",
        "mean_vol = mean_vol.bfill()\n",
        "\n",
        "# ✅ STEP 3: Align the rolling series with the main DataFrame index\n",
        "mean_vol = mean_vol.loc[data.index]\n",
        "\n",
        "# ✅ STEP 4: Compute volume spike\n",
        "data['vol_spike'] = (data['Volume_AAPL'] > 3 * mean_vol).astype(int)"
      ],
      "metadata": {
        "id": "FGi1B0D3p_yG"
      },
      "execution_count": 24,
      "outputs": []
    },
    {
      "cell_type": "markdown",
      "source": [
        "4.3 Z-Score for Price Volatility"
      ],
      "metadata": {
        "id": "V2diyXapqBn0"
      }
    },
    {
      "cell_type": "code",
      "source": [
        "window = 20\n",
        "data['z_score'] = (data['Close_AAPL'] - data['Close_AAPL'].rolling(window).mean()) / data['Close_AAPL'].rolling(window).std()\n",
        "data['z_anomaly'] = (abs(data['z_score']) > 3).astype(int)\n"
      ],
      "metadata": {
        "id": "p6j0puYRqDmm"
      },
      "execution_count": 26,
      "outputs": []
    },
    {
      "cell_type": "markdown",
      "source": [
        "## **5. Visualization with Plotly**"
      ],
      "metadata": {
        "id": "24M8papsqF5y"
      }
    },
    {
      "cell_type": "code",
      "source": [
        "pip install streamlit"
      ],
      "metadata": {
        "colab": {
          "base_uri": "https://localhost:8080/"
        },
        "collapsed": true,
        "id": "4Mgq_-HxrSba",
        "outputId": "5ce7654e-ea6b-41ef-d159-8ebd9569e83e"
      },
      "execution_count": 9,
      "outputs": [
        {
          "output_type": "stream",
          "name": "stdout",
          "text": [
            "Collecting streamlit\n",
            "  Downloading streamlit-1.45.1-py3-none-any.whl.metadata (8.9 kB)\n",
            "Requirement already satisfied: altair<6,>=4.0 in /usr/local/lib/python3.11/dist-packages (from streamlit) (5.5.0)\n",
            "Requirement already satisfied: blinker<2,>=1.5.0 in /usr/local/lib/python3.11/dist-packages (from streamlit) (1.9.0)\n",
            "Requirement already satisfied: cachetools<6,>=4.0 in /usr/local/lib/python3.11/dist-packages (from streamlit) (5.5.2)\n",
            "Requirement already satisfied: click<9,>=7.0 in /usr/local/lib/python3.11/dist-packages (from streamlit) (8.2.0)\n",
            "Requirement already satisfied: numpy<3,>=1.23 in /usr/local/lib/python3.11/dist-packages (from streamlit) (2.0.2)\n",
            "Requirement already satisfied: packaging<25,>=20 in /usr/local/lib/python3.11/dist-packages (from streamlit) (24.2)\n",
            "Requirement already satisfied: pandas<3,>=1.4.0 in /usr/local/lib/python3.11/dist-packages (from streamlit) (2.2.2)\n",
            "Requirement already satisfied: pillow<12,>=7.1.0 in /usr/local/lib/python3.11/dist-packages (from streamlit) (11.2.1)\n",
            "Requirement already satisfied: protobuf<7,>=3.20 in /usr/local/lib/python3.11/dist-packages (from streamlit) (5.29.4)\n",
            "Requirement already satisfied: pyarrow>=7.0 in /usr/local/lib/python3.11/dist-packages (from streamlit) (18.1.0)\n",
            "Requirement already satisfied: requests<3,>=2.27 in /usr/local/lib/python3.11/dist-packages (from streamlit) (2.32.3)\n",
            "Requirement already satisfied: tenacity<10,>=8.1.0 in /usr/local/lib/python3.11/dist-packages (from streamlit) (9.1.2)\n",
            "Requirement already satisfied: toml<2,>=0.10.1 in /usr/local/lib/python3.11/dist-packages (from streamlit) (0.10.2)\n",
            "Requirement already satisfied: typing-extensions<5,>=4.4.0 in /usr/local/lib/python3.11/dist-packages (from streamlit) (4.13.2)\n",
            "Collecting watchdog<7,>=2.1.5 (from streamlit)\n",
            "  Downloading watchdog-6.0.0-py3-none-manylinux2014_x86_64.whl.metadata (44 kB)\n",
            "\u001b[2K     \u001b[90m━━━━━━━━━━━━━━━━━━━━━━━━━━━━━━━━━━━━━━━━\u001b[0m \u001b[32m44.3/44.3 kB\u001b[0m \u001b[31m1.6 MB/s\u001b[0m eta \u001b[36m0:00:00\u001b[0m\n",
            "\u001b[?25hRequirement already satisfied: gitpython!=3.1.19,<4,>=3.0.7 in /usr/local/lib/python3.11/dist-packages (from streamlit) (3.1.44)\n",
            "Collecting pydeck<1,>=0.8.0b4 (from streamlit)\n",
            "  Downloading pydeck-0.9.1-py2.py3-none-any.whl.metadata (4.1 kB)\n",
            "Requirement already satisfied: tornado<7,>=6.0.3 in /usr/local/lib/python3.11/dist-packages (from streamlit) (6.4.2)\n",
            "Requirement already satisfied: jinja2 in /usr/local/lib/python3.11/dist-packages (from altair<6,>=4.0->streamlit) (3.1.6)\n",
            "Requirement already satisfied: jsonschema>=3.0 in /usr/local/lib/python3.11/dist-packages (from altair<6,>=4.0->streamlit) (4.23.0)\n",
            "Requirement already satisfied: narwhals>=1.14.2 in /usr/local/lib/python3.11/dist-packages (from altair<6,>=4.0->streamlit) (1.39.0)\n",
            "Requirement already satisfied: gitdb<5,>=4.0.1 in /usr/local/lib/python3.11/dist-packages (from gitpython!=3.1.19,<4,>=3.0.7->streamlit) (4.0.12)\n",
            "Requirement already satisfied: python-dateutil>=2.8.2 in /usr/local/lib/python3.11/dist-packages (from pandas<3,>=1.4.0->streamlit) (2.9.0.post0)\n",
            "Requirement already satisfied: pytz>=2020.1 in /usr/local/lib/python3.11/dist-packages (from pandas<3,>=1.4.0->streamlit) (2025.2)\n",
            "Requirement already satisfied: tzdata>=2022.7 in /usr/local/lib/python3.11/dist-packages (from pandas<3,>=1.4.0->streamlit) (2025.2)\n",
            "Requirement already satisfied: charset-normalizer<4,>=2 in /usr/local/lib/python3.11/dist-packages (from requests<3,>=2.27->streamlit) (3.4.2)\n",
            "Requirement already satisfied: idna<4,>=2.5 in /usr/local/lib/python3.11/dist-packages (from requests<3,>=2.27->streamlit) (3.10)\n",
            "Requirement already satisfied: urllib3<3,>=1.21.1 in /usr/local/lib/python3.11/dist-packages (from requests<3,>=2.27->streamlit) (2.4.0)\n",
            "Requirement already satisfied: certifi>=2017.4.17 in /usr/local/lib/python3.11/dist-packages (from requests<3,>=2.27->streamlit) (2025.4.26)\n",
            "Requirement already satisfied: smmap<6,>=3.0.1 in /usr/local/lib/python3.11/dist-packages (from gitdb<5,>=4.0.1->gitpython!=3.1.19,<4,>=3.0.7->streamlit) (5.0.2)\n",
            "Requirement already satisfied: MarkupSafe>=2.0 in /usr/local/lib/python3.11/dist-packages (from jinja2->altair<6,>=4.0->streamlit) (3.0.2)\n",
            "Requirement already satisfied: attrs>=22.2.0 in /usr/local/lib/python3.11/dist-packages (from jsonschema>=3.0->altair<6,>=4.0->streamlit) (25.3.0)\n",
            "Requirement already satisfied: jsonschema-specifications>=2023.03.6 in /usr/local/lib/python3.11/dist-packages (from jsonschema>=3.0->altair<6,>=4.0->streamlit) (2025.4.1)\n",
            "Requirement already satisfied: referencing>=0.28.4 in /usr/local/lib/python3.11/dist-packages (from jsonschema>=3.0->altair<6,>=4.0->streamlit) (0.36.2)\n",
            "Requirement already satisfied: rpds-py>=0.7.1 in /usr/local/lib/python3.11/dist-packages (from jsonschema>=3.0->altair<6,>=4.0->streamlit) (0.24.0)\n",
            "Requirement already satisfied: six>=1.5 in /usr/local/lib/python3.11/dist-packages (from python-dateutil>=2.8.2->pandas<3,>=1.4.0->streamlit) (1.17.0)\n",
            "Downloading streamlit-1.45.1-py3-none-any.whl (9.9 MB)\n",
            "\u001b[2K   \u001b[90m━━━━━━━━━━━━━━━━━━━━━━━━━━━━━━━━━━━━━━━━\u001b[0m \u001b[32m9.9/9.9 MB\u001b[0m \u001b[31m56.1 MB/s\u001b[0m eta \u001b[36m0:00:00\u001b[0m\n",
            "\u001b[?25hDownloading pydeck-0.9.1-py2.py3-none-any.whl (6.9 MB)\n",
            "\u001b[2K   \u001b[90m━━━━━━━━━━━━━━━━━━━━━━━━━━━━━━━━━━━━━━━━\u001b[0m \u001b[32m6.9/6.9 MB\u001b[0m \u001b[31m80.6 MB/s\u001b[0m eta \u001b[36m0:00:00\u001b[0m\n",
            "\u001b[?25hDownloading watchdog-6.0.0-py3-none-manylinux2014_x86_64.whl (79 kB)\n",
            "\u001b[2K   \u001b[90m━━━━━━━━━━━━━━━━━━━━━━━━━━━━━━━━━━━━━━━━\u001b[0m \u001b[32m79.1/79.1 kB\u001b[0m \u001b[31m5.0 MB/s\u001b[0m eta \u001b[36m0:00:00\u001b[0m\n",
            "\u001b[?25hInstalling collected packages: watchdog, pydeck, streamlit\n",
            "Successfully installed pydeck-0.9.1 streamlit-1.45.1 watchdog-6.0.0\n"
          ]
        }
      ]
    },
    {
      "cell_type": "code",
      "source": [
        "import plotly.graph_objects as go\n",
        "\n",
        "fig = go.Figure()\n",
        "fig.add_trace(go.Scatter(x=data.index, y=data['Close_AAPL'], mode='lines', name='Close_AAPL'))\n",
        "fig.add_trace(go.Scatter(x=data[data['anomaly_price_']==-1].index,\n",
        "                         y=data[data['anomaly_price_']==-1]['Close_AAPL'],\n",
        "                         mode='markers', name='Price Anomaly',\n",
        "                         marker=dict(color='red', size=6)))\n",
        "fig.update_layout(title=f\"{ticker} - Price with Anomalies\", xaxis_title='Time', yaxis_title='Price')\n",
        "fig.show()\n"
      ],
      "metadata": {
        "colab": {
          "base_uri": "https://localhost:8080/",
          "height": 542
        },
        "id": "65nwLY-tqIdk",
        "outputId": "866e7cc3-78a4-429f-e1a4-0a7afd57a17b"
      },
      "execution_count": 28,
      "outputs": [
        {
          "output_type": "display_data",
          "data": {
            "text/html": [
              "<html>\n",
              "<head><meta charset=\"utf-8\" /></head>\n",
              "<body>\n",
              "    <div>            <script src=\"https://cdnjs.cloudflare.com/ajax/libs/mathjax/2.7.5/MathJax.js?config=TeX-AMS-MML_SVG\"></script><script type=\"text/javascript\">if (window.MathJax && window.MathJax.Hub && window.MathJax.Hub.Config) {window.MathJax.Hub.Config({SVG: {font: \"STIX-Web\"}});}</script>                <script type=\"text/javascript\">window.PlotlyConfig = {MathJaxConfig: 'local'};</script>\n",
              "        <script charset=\"utf-8\" src=\"https://cdn.plot.ly/plotly-2.35.2.min.js\"></script>                <div id=\"798643f2-671f-412d-a5ab-61140a0a1254\" class=\"plotly-graph-div\" style=\"height:525px; width:100%;\"></div>            <script type=\"text/javascript\">                                    window.PLOTLYENV=window.PLOTLYENV || {};                                    if (document.getElementById(\"798643f2-671f-412d-a5ab-61140a0a1254\")) {                    Plotly.newPlot(                        \"798643f2-671f-412d-a5ab-61140a0a1254\",                        [{\"mode\":\"lines\",\"name\":\"Close_AAPL\",\"x\":[\"2025-05-23T13:30:00+00:00\",\"2025-05-23T13:31:00+00:00\",\"2025-05-23T13:32:00+00:00\",\"2025-05-23T13:33:00+00:00\",\"2025-05-23T13:34:00+00:00\",\"2025-05-23T13:35:00+00:00\",\"2025-05-23T13:36:00+00:00\",\"2025-05-23T13:37:00+00:00\",\"2025-05-23T13:38:00+00:00\",\"2025-05-23T13:39:00+00:00\",\"2025-05-23T13:40:00+00:00\",\"2025-05-23T13:41:00+00:00\",\"2025-05-23T13:42:00+00:00\",\"2025-05-23T13:43:00+00:00\",\"2025-05-23T13:44:00+00:00\",\"2025-05-23T13:45:00+00:00\",\"2025-05-23T13:46:00+00:00\",\"2025-05-23T13:47:00+00:00\",\"2025-05-23T13:48:00+00:00\",\"2025-05-23T13:49:00+00:00\",\"2025-05-23T13:50:00+00:00\",\"2025-05-23T13:51:00+00:00\",\"2025-05-23T13:52:00+00:00\",\"2025-05-23T13:53:00+00:00\",\"2025-05-23T13:54:00+00:00\",\"2025-05-23T13:55:00+00:00\",\"2025-05-23T13:56:00+00:00\",\"2025-05-23T13:57:00+00:00\",\"2025-05-23T13:58:00+00:00\",\"2025-05-23T13:59:00+00:00\",\"2025-05-23T14:00:00+00:00\",\"2025-05-23T14:01:00+00:00\",\"2025-05-23T14:02:00+00:00\",\"2025-05-23T14:03:00+00:00\",\"2025-05-23T14:04:00+00:00\",\"2025-05-23T14:05:00+00:00\",\"2025-05-23T14:06:00+00:00\",\"2025-05-23T14:07:00+00:00\",\"2025-05-23T14:08:00+00:00\",\"2025-05-23T14:09:00+00:00\",\"2025-05-23T14:10:00+00:00\",\"2025-05-23T14:11:00+00:00\",\"2025-05-23T14:12:00+00:00\",\"2025-05-23T14:13:00+00:00\",\"2025-05-23T14:14:00+00:00\",\"2025-05-23T14:15:00+00:00\",\"2025-05-23T14:16:00+00:00\",\"2025-05-23T14:17:00+00:00\",\"2025-05-23T14:18:00+00:00\",\"2025-05-23T14:19:00+00:00\",\"2025-05-23T14:20:00+00:00\",\"2025-05-23T14:21:00+00:00\",\"2025-05-23T14:22:00+00:00\",\"2025-05-23T14:23:00+00:00\",\"2025-05-23T14:24:00+00:00\",\"2025-05-23T14:25:00+00:00\",\"2025-05-23T14:26:00+00:00\",\"2025-05-23T14:27:00+00:00\",\"2025-05-23T14:28:00+00:00\",\"2025-05-23T14:29:00+00:00\",\"2025-05-23T14:30:00+00:00\",\"2025-05-23T14:31:00+00:00\",\"2025-05-23T14:32:00+00:00\",\"2025-05-23T14:33:00+00:00\",\"2025-05-23T14:34:00+00:00\",\"2025-05-23T14:35:00+00:00\",\"2025-05-23T14:36:00+00:00\",\"2025-05-23T14:37:00+00:00\",\"2025-05-23T14:38:00+00:00\",\"2025-05-23T14:39:00+00:00\",\"2025-05-23T14:40:00+00:00\",\"2025-05-23T14:41:00+00:00\",\"2025-05-23T14:42:00+00:00\",\"2025-05-23T14:43:00+00:00\",\"2025-05-23T14:44:00+00:00\",\"2025-05-23T14:45:00+00:00\",\"2025-05-23T14:46:00+00:00\",\"2025-05-23T14:47:00+00:00\",\"2025-05-23T14:48:00+00:00\",\"2025-05-23T14:49:00+00:00\",\"2025-05-23T14:50:00+00:00\",\"2025-05-23T14:51:00+00:00\",\"2025-05-23T14:52:00+00:00\",\"2025-05-23T14:53:00+00:00\",\"2025-05-23T14:54:00+00:00\",\"2025-05-23T14:55:00+00:00\",\"2025-05-23T14:56:00+00:00\",\"2025-05-23T14:57:00+00:00\",\"2025-05-23T14:58:00+00:00\",\"2025-05-23T14:59:00+00:00\",\"2025-05-23T15:00:00+00:00\",\"2025-05-23T15:01:00+00:00\",\"2025-05-23T15:02:00+00:00\",\"2025-05-23T15:03:00+00:00\",\"2025-05-23T15:04:00+00:00\",\"2025-05-23T15:05:00+00:00\",\"2025-05-23T15:06:00+00:00\",\"2025-05-23T15:07:00+00:00\",\"2025-05-23T15:08:00+00:00\",\"2025-05-23T15:09:00+00:00\",\"2025-05-23T15:10:00+00:00\",\"2025-05-23T15:11:00+00:00\",\"2025-05-23T15:12:00+00:00\",\"2025-05-23T15:13:00+00:00\",\"2025-05-23T15:15:00+00:00\",\"2025-05-23T15:16:00+00:00\",\"2025-05-23T15:17:00+00:00\",\"2025-05-23T15:18:00+00:00\",\"2025-05-23T15:19:00+00:00\",\"2025-05-23T15:20:00+00:00\",\"2025-05-23T15:21:00+00:00\",\"2025-05-23T15:22:00+00:00\",\"2025-05-23T15:23:00+00:00\",\"2025-05-23T15:24:00+00:00\",\"2025-05-23T15:25:00+00:00\",\"2025-05-23T15:26:00+00:00\",\"2025-05-23T15:27:00+00:00\",\"2025-05-23T15:28:00+00:00\",\"2025-05-23T15:29:00+00:00\",\"2025-05-23T15:30:00+00:00\",\"2025-05-23T15:31:00+00:00\",\"2025-05-23T15:32:00+00:00\",\"2025-05-23T15:33:00+00:00\",\"2025-05-23T15:34:00+00:00\",\"2025-05-23T15:35:00+00:00\",\"2025-05-23T15:36:00+00:00\",\"2025-05-23T15:37:00+00:00\",\"2025-05-23T15:38:00+00:00\",\"2025-05-23T15:39:00+00:00\",\"2025-05-23T15:40:00+00:00\",\"2025-05-23T15:41:00+00:00\",\"2025-05-23T15:42:00+00:00\",\"2025-05-23T15:43:00+00:00\",\"2025-05-23T15:44:00+00:00\",\"2025-05-23T15:45:00+00:00\",\"2025-05-23T15:46:00+00:00\",\"2025-05-23T15:47:00+00:00\",\"2025-05-23T15:48:00+00:00\",\"2025-05-23T15:49:00+00:00\",\"2025-05-23T15:50:00+00:00\",\"2025-05-23T15:51:00+00:00\",\"2025-05-23T15:52:00+00:00\",\"2025-05-23T15:53:00+00:00\",\"2025-05-23T15:54:00+00:00\",\"2025-05-23T15:55:00+00:00\",\"2025-05-23T15:56:00+00:00\",\"2025-05-23T15:57:00+00:00\",\"2025-05-23T15:58:00+00:00\",\"2025-05-23T15:59:00+00:00\",\"2025-05-23T16:00:00+00:00\",\"2025-05-23T16:01:00+00:00\",\"2025-05-23T16:02:00+00:00\",\"2025-05-23T16:03:00+00:00\",\"2025-05-23T16:04:00+00:00\",\"2025-05-23T16:05:00+00:00\",\"2025-05-23T16:06:00+00:00\",\"2025-05-23T16:07:00+00:00\",\"2025-05-23T16:08:00+00:00\",\"2025-05-23T16:09:00+00:00\",\"2025-05-23T16:10:00+00:00\",\"2025-05-23T16:11:00+00:00\",\"2025-05-23T16:12:00+00:00\",\"2025-05-23T16:13:00+00:00\",\"2025-05-23T16:14:00+00:00\",\"2025-05-23T16:15:00+00:00\",\"2025-05-23T16:16:00+00:00\",\"2025-05-23T16:17:00+00:00\",\"2025-05-23T16:18:00+00:00\",\"2025-05-23T16:19:00+00:00\",\"2025-05-23T16:20:00+00:00\",\"2025-05-23T16:21:00+00:00\",\"2025-05-23T16:22:00+00:00\",\"2025-05-23T16:23:00+00:00\",\"2025-05-23T16:24:00+00:00\",\"2025-05-23T16:25:00+00:00\",\"2025-05-23T16:26:00+00:00\",\"2025-05-23T16:27:00+00:00\",\"2025-05-23T16:28:00+00:00\",\"2025-05-23T16:29:00+00:00\",\"2025-05-23T16:30:00+00:00\",\"2025-05-23T16:31:00+00:00\",\"2025-05-23T16:32:00+00:00\",\"2025-05-23T16:33:00+00:00\",\"2025-05-23T16:34:00+00:00\",\"2025-05-23T16:35:00+00:00\",\"2025-05-23T16:36:00+00:00\",\"2025-05-23T16:37:00+00:00\",\"2025-05-23T16:38:00+00:00\",\"2025-05-23T16:39:00+00:00\",\"2025-05-23T16:40:00+00:00\",\"2025-05-23T16:41:00+00:00\",\"2025-05-23T16:42:00+00:00\",\"2025-05-23T16:43:00+00:00\",\"2025-05-23T16:44:00+00:00\",\"2025-05-23T16:45:00+00:00\",\"2025-05-23T16:46:00+00:00\",\"2025-05-23T16:47:00+00:00\",\"2025-05-23T16:48:00+00:00\",\"2025-05-23T16:49:00+00:00\",\"2025-05-23T16:50:00+00:00\",\"2025-05-23T16:51:00+00:00\",\"2025-05-23T16:52:00+00:00\",\"2025-05-23T16:53:00+00:00\",\"2025-05-23T16:54:00+00:00\",\"2025-05-23T16:55:00+00:00\",\"2025-05-23T16:56:00+00:00\",\"2025-05-23T16:57:00+00:00\",\"2025-05-23T16:58:00+00:00\",\"2025-05-23T16:59:00+00:00\",\"2025-05-23T17:00:00+00:00\",\"2025-05-23T17:01:00+00:00\",\"2025-05-23T17:02:00+00:00\",\"2025-05-23T17:03:00+00:00\",\"2025-05-23T17:04:00+00:00\",\"2025-05-23T17:05:00+00:00\",\"2025-05-23T17:06:00+00:00\",\"2025-05-23T17:07:00+00:00\",\"2025-05-23T17:08:00+00:00\",\"2025-05-23T17:09:00+00:00\",\"2025-05-23T17:10:00+00:00\",\"2025-05-23T17:11:00+00:00\",\"2025-05-23T17:12:00+00:00\",\"2025-05-23T17:13:00+00:00\",\"2025-05-23T17:14:00+00:00\",\"2025-05-23T17:15:00+00:00\",\"2025-05-23T17:16:00+00:00\",\"2025-05-23T17:17:00+00:00\",\"2025-05-23T17:18:00+00:00\",\"2025-05-23T17:19:00+00:00\",\"2025-05-23T17:20:00+00:00\",\"2025-05-23T17:21:00+00:00\",\"2025-05-23T17:22:00+00:00\",\"2025-05-23T17:23:00+00:00\",\"2025-05-23T17:24:00+00:00\",\"2025-05-23T17:25:00+00:00\",\"2025-05-23T17:26:00+00:00\",\"2025-05-23T17:27:00+00:00\",\"2025-05-23T17:28:00+00:00\",\"2025-05-23T17:29:00+00:00\",\"2025-05-23T17:30:00+00:00\",\"2025-05-23T17:31:00+00:00\",\"2025-05-23T17:32:00+00:00\",\"2025-05-23T17:33:00+00:00\",\"2025-05-23T17:34:00+00:00\",\"2025-05-23T17:35:00+00:00\",\"2025-05-23T17:36:00+00:00\",\"2025-05-23T17:37:00+00:00\",\"2025-05-23T17:38:00+00:00\",\"2025-05-23T17:39:00+00:00\",\"2025-05-23T17:40:00+00:00\",\"2025-05-23T17:41:00+00:00\",\"2025-05-23T17:42:00+00:00\",\"2025-05-23T17:43:00+00:00\",\"2025-05-23T17:44:00+00:00\",\"2025-05-23T17:45:00+00:00\",\"2025-05-23T17:46:00+00:00\",\"2025-05-23T17:47:00+00:00\",\"2025-05-23T17:48:00+00:00\",\"2025-05-23T17:49:00+00:00\",\"2025-05-23T17:50:00+00:00\",\"2025-05-23T17:51:00+00:00\",\"2025-05-23T17:52:00+00:00\",\"2025-05-23T17:53:00+00:00\",\"2025-05-23T17:54:00+00:00\",\"2025-05-23T17:55:00+00:00\",\"2025-05-23T17:56:00+00:00\",\"2025-05-23T17:57:00+00:00\",\"2025-05-23T17:58:00+00:00\",\"2025-05-23T17:59:00+00:00\",\"2025-05-23T18:00:00+00:00\",\"2025-05-23T18:01:00+00:00\",\"2025-05-23T18:02:00+00:00\",\"2025-05-23T18:03:00+00:00\",\"2025-05-23T18:04:00+00:00\",\"2025-05-23T18:05:00+00:00\",\"2025-05-23T18:06:00+00:00\",\"2025-05-23T18:07:00+00:00\",\"2025-05-23T18:08:00+00:00\",\"2025-05-23T18:09:00+00:00\",\"2025-05-23T18:10:00+00:00\",\"2025-05-23T18:11:00+00:00\",\"2025-05-23T18:12:00+00:00\",\"2025-05-23T18:13:00+00:00\",\"2025-05-23T18:14:00+00:00\",\"2025-05-23T18:15:00+00:00\",\"2025-05-23T18:16:00+00:00\",\"2025-05-23T18:17:00+00:00\",\"2025-05-23T18:18:00+00:00\",\"2025-05-23T18:19:00+00:00\",\"2025-05-23T18:20:00+00:00\",\"2025-05-23T18:21:00+00:00\",\"2025-05-23T18:22:00+00:00\",\"2025-05-23T18:23:00+00:00\",\"2025-05-23T18:24:00+00:00\",\"2025-05-23T18:25:00+00:00\",\"2025-05-23T18:26:00+00:00\",\"2025-05-23T18:27:00+00:00\",\"2025-05-23T18:28:00+00:00\",\"2025-05-23T18:29:00+00:00\",\"2025-05-23T18:30:00+00:00\",\"2025-05-23T18:31:00+00:00\",\"2025-05-23T18:32:00+00:00\",\"2025-05-23T18:33:00+00:00\",\"2025-05-23T18:34:00+00:00\",\"2025-05-23T18:35:00+00:00\",\"2025-05-23T18:36:00+00:00\",\"2025-05-23T18:37:00+00:00\",\"2025-05-23T18:38:00+00:00\",\"2025-05-23T18:39:00+00:00\",\"2025-05-23T18:40:00+00:00\",\"2025-05-23T18:41:00+00:00\",\"2025-05-23T18:42:00+00:00\",\"2025-05-23T18:43:00+00:00\",\"2025-05-23T18:44:00+00:00\",\"2025-05-23T18:45:00+00:00\",\"2025-05-23T18:46:00+00:00\",\"2025-05-23T18:47:00+00:00\",\"2025-05-23T18:48:00+00:00\",\"2025-05-23T18:49:00+00:00\",\"2025-05-23T18:50:00+00:00\",\"2025-05-23T18:51:00+00:00\",\"2025-05-23T18:52:00+00:00\",\"2025-05-23T18:53:00+00:00\",\"2025-05-23T18:54:00+00:00\",\"2025-05-23T18:55:00+00:00\",\"2025-05-23T18:56:00+00:00\",\"2025-05-23T18:57:00+00:00\",\"2025-05-23T18:58:00+00:00\",\"2025-05-23T18:59:00+00:00\",\"2025-05-23T19:00:00+00:00\",\"2025-05-23T19:01:00+00:00\",\"2025-05-23T19:02:00+00:00\",\"2025-05-23T19:03:00+00:00\",\"2025-05-23T19:04:00+00:00\",\"2025-05-23T19:05:00+00:00\",\"2025-05-23T19:06:00+00:00\",\"2025-05-23T19:07:00+00:00\",\"2025-05-23T19:08:00+00:00\",\"2025-05-23T19:09:00+00:00\",\"2025-05-23T19:10:00+00:00\",\"2025-05-23T19:11:00+00:00\",\"2025-05-23T19:12:00+00:00\",\"2025-05-23T19:13:00+00:00\",\"2025-05-23T19:14:00+00:00\",\"2025-05-23T19:15:00+00:00\",\"2025-05-23T19:16:00+00:00\",\"2025-05-23T19:17:00+00:00\",\"2025-05-23T19:18:00+00:00\",\"2025-05-23T19:19:00+00:00\",\"2025-05-23T19:20:00+00:00\",\"2025-05-23T19:21:00+00:00\",\"2025-05-23T19:22:00+00:00\",\"2025-05-23T19:23:00+00:00\",\"2025-05-23T19:24:00+00:00\",\"2025-05-23T19:25:00+00:00\",\"2025-05-23T19:26:00+00:00\",\"2025-05-23T19:27:00+00:00\",\"2025-05-23T19:28:00+00:00\",\"2025-05-23T19:29:00+00:00\",\"2025-05-23T19:30:00+00:00\",\"2025-05-23T19:31:00+00:00\",\"2025-05-23T19:32:00+00:00\",\"2025-05-23T19:33:00+00:00\",\"2025-05-23T19:34:00+00:00\",\"2025-05-23T19:35:00+00:00\",\"2025-05-23T19:36:00+00:00\",\"2025-05-23T19:37:00+00:00\",\"2025-05-23T19:38:00+00:00\",\"2025-05-23T19:39:00+00:00\",\"2025-05-23T19:40:00+00:00\",\"2025-05-23T19:41:00+00:00\",\"2025-05-23T19:42:00+00:00\",\"2025-05-23T19:43:00+00:00\",\"2025-05-23T19:44:00+00:00\",\"2025-05-23T19:45:00+00:00\",\"2025-05-23T19:46:00+00:00\",\"2025-05-23T19:47:00+00:00\",\"2025-05-23T19:48:00+00:00\",\"2025-05-23T19:49:00+00:00\",\"2025-05-23T19:50:00+00:00\",\"2025-05-23T19:51:00+00:00\",\"2025-05-23T19:52:00+00:00\",\"2025-05-23T19:53:00+00:00\",\"2025-05-23T19:54:00+00:00\",\"2025-05-23T19:55:00+00:00\",\"2025-05-23T19:56:00+00:00\",\"2025-05-23T19:57:00+00:00\",\"2025-05-23T19:58:00+00:00\",\"2025-05-23T19:59:00+00:00\"],\"y\":[195.38499450683594,195.72000122070312,195.8249969482422,196.57000732421875,196.50999450683594,196.8699951171875,196.97000122070312,196.7689971923828,196.89999389648438,196.64500427246094,196.7100067138672,196.92999267578125,196.6042938232422,196.02999877929688,196.0,195.72000122070312,195.625,195.7698974609375,195.7200927734375,195.67999267578125,195.86000061035156,195.66000366210938,195.97579956054688,195.7899932861328,195.52000427246094,195.92999267578125,196.42999267578125,196.5399932861328,196.61000061035156,196.3699951171875,196.2375946044922,196.26939392089844,196.3896026611328,196.14990234375,196.17019653320312,196.2100067138672,196.10000610351562,196.52000427246094,196.85989379882812,196.60980224609375,196.58999633789062,196.49000549316406,197.13999938964844,196.8300018310547,196.92999267578125,196.86000061035156,196.94000244140625,196.89999389648438,196.9676055908203,196.94000244140625,196.7899932861328,196.5800018310547,196.81919860839844,196.85000610351562,197.2371063232422,197.5399932861328,197.39999389648438,197.49000549316406,197.13999938964844,197.1699981689453,197.2899932861328,196.96730041503906,196.66000366210938,196.5500030517578,196.61000061035156,196.66000366210938,196.5511932373047,196.47000122070312,196.69000244140625,196.6300048828125,196.47999572753906,196.3800048828125,196.16000366210938,196.3800048828125,196.19000244140625,196.3260040283203,196.310302734375,196.3511962890625,196.58999633789062,196.4499969482422,196.22000122070312,196.07000732421875,195.91000366210938,195.8592987060547,195.7899932861328,195.8350067138672,195.7592010498047,195.88499450683594,195.72000122070312,195.9300994873047,196.07000732421875,196.0843048095703,196.21499633789062,196.2899932861328,196.13999938964844,195.95150756835938,195.875,195.8800048828125,196.0301055908203,196.13999938964844,196.26539611816406,196.42880249023438,196.22000122070312,195.97000122070312,195.96449279785156,195.97999572753906,196.0050048828125,196.23500061035156,196.1457061767578,196.23269653320312,196.35499572753906,196.42999267578125,196.42999267578125,196.44000244140625,196.39010620117188,196.35679626464844,196.42919921875,196.4499969482422,196.5850067138672,196.6741943359375,196.72000122070312,196.80999755859375,196.74000549316406,196.77000427246094,196.80999755859375,196.83999633789062,197.02999877929688,196.77999877929688,196.60000610351562,196.6999969482422,196.46800231933594,196.80999755859375,196.8300018310547,196.72509765625,196.43499755859375,196.4320068359375,196.47970581054688,196.4300994873047,196.47500610351562,196.25999450683594,196.17970275878906,196.07009887695312,196.0,196.17999267578125,196.19439697265625,196.22999572753906,196.19000244140625,196.27310180664062,196.20010375976562,196.33999633789062,196.35000610351562,196.5500030517578,196.58999633789062,195.91000366210938,195.82020568847656,195.92999267578125,195.94000244140625,195.99000549316406,196.0050048828125,195.97000122070312,195.77000427246094,195.97500610351562,195.88999938964844,195.93409729003906,196.02000427246094,195.92999267578125,195.8699951171875,195.86000061035156,195.8249969482422,195.99000549316406,195.914794921875,195.9499969482422,195.95840454101562,196.00999450683594,196.24000549316406,196.22500610351562,196.27999877929688,196.25,196.05020141601562,195.94979858398438,195.82000732421875,195.82000732421875,195.81109619140625,195.77499389648438,196.0,195.99000549316406,196.0500030517578,195.97999572753906,196.0469970703125,195.8800048828125,195.94000244140625,195.9600067138672,195.97000122070312,196.11749267578125,196.10000610351562,196.0,196.0449981689453,196.20770263671875,196.33689880371094,196.23989868164062,196.27000427246094,196.1999969482422,196.1269073486328,196.13999938964844,196.07000732421875,195.88999938964844,195.97500610351562,195.9709930419922,196.10000610351562,196.02000427246094,195.87010192871094,195.9600067138672,195.875,195.97889709472656,196.02000427246094,196.16990661621094,195.97000122070312,196.0850067138672,196.00999450683594,196.0749969482422,196.0800018310547,196.00999450683594,196.1199951171875,196.02000427246094,196.02499389648438,196.1300048828125,196.36920166015625,196.51499938964844,196.4250030517578,196.4300994873047,196.4149932861328,196.41000366210938,196.35000610351562,196.44039916992188,196.3350067138672,196.3350067138672,196.3699951171875,196.4499969482422,196.6199951171875,196.5,196.50999450683594,196.47999572753906,196.2949981689453,196.19000244140625,196.1699981689453,196.22999572753906,196.22000122070312,196.18499755859375,196.0800018310547,195.85499572753906,195.7050018310547,195.75999450683594,195.60000610351562,195.80999755859375,195.85000610351562,195.84010314941406,195.9799041748047,195.94000244140625,196.02000427246094,196.06500244140625,196.0,195.8699951171875,195.97999572753906,196.0800018310547,196.08120727539062,195.8300018310547,195.8000030517578,196.00999450683594,195.97999572753906,196.02499389648438,196.1999969482422,196.16000366210938,196.1197967529297,196.0449981689453,196.11129760742188,196.0749969482422,196.36709594726562,196.3802947998047,196.36000061035156,196.27999877929688,196.27969360351562,196.4199981689453,196.47999572753906,196.47000122070312,196.38999938964844,196.38999938964844,195.97999572753906,196.00999450683594,195.89999389648438,195.60000610351562,195.44000244140625,195.4600067138672,195.63499450683594,195.9600067138672,195.7407989501953,195.75999450683594,195.85000610351562,195.67999267578125,195.75,195.77589416503906,195.60000610351562,195.4499969482422,195.4250030517578,195.5050048828125,195.7801971435547,195.81500244140625,195.72500610351562,195.5800018310547,195.61300659179688,195.61000061035156,195.67999267578125,195.7949981689453,195.77540588378906,195.66000366210938,195.63999938964844,195.47500610351562,195.375,195.46859741210938,195.52999877929688,195.49000549316406,195.69000244140625,195.6300048828125,195.64999389648438,195.65499877929688,195.80999755859375,195.58999633789062,195.4954071044922,195.4600067138672,195.52499389648438,195.46929931640625,195.35499572753906,195.30889892578125,195.3699951171875,195.25999450683594,195.2100067138672,195.36000061035156,195.6199951171875,195.57009887695312,195.68179321289062,195.69500732421875,195.8300018310547,195.8350067138672,195.6999969482422,195.68499755859375,195.52000427246094,195.4927978515625,195.5800018310547,195.5,195.4449005126953,195.38499450683594,195.32080078125,195.3249969482422,195.30999755859375,195.44000244140625,195.32460021972656,195.2100067138672,195.14990234375,195.25999450683594,195.46240234375,195.5509033203125,195.4499969482422,195.47999572753906,195.52000427246094,195.72000122070312,195.69000244140625,195.6699981689453,195.58070373535156,195.7550048828125,195.84080505371094,195.8780059814453,195.9149932861328,195.76060485839844,195.6479034423828,195.73500061035156,195.5688934326172,195.42999267578125,195.35000610351562,195.27000427246094,195.32000732421875,195.3300018310547,195.41000366210938,195.42999267578125,195.3000030517578,195.32859802246094,195.27999877929688,195.5113067626953,195.40499877929688,195.5449981689453,195.33999633789062],\"type\":\"scatter\"},{\"marker\":{\"color\":\"red\",\"size\":6},\"mode\":\"markers\",\"name\":\"Price Anomaly\",\"x\":[\"2025-05-23T14:25:00+00:00\",\"2025-05-23T14:26:00+00:00\",\"2025-05-23T14:27:00+00:00\",\"2025-05-23T19:27:00+00:00\"],\"y\":[197.5399932861328,197.39999389648438,197.49000549316406,195.14990234375],\"type\":\"scatter\"}],                        {\"template\":{\"data\":{\"candlestick\":[{\"decreasing\":{\"line\":{\"color\":\"#000033\"}},\"increasing\":{\"line\":{\"color\":\"#000032\"}},\"type\":\"candlestick\"}],\"contourcarpet\":[{\"colorscale\":[[0.0,\"#000011\"],[0.1111111111111111,\"#000012\"],[0.2222222222222222,\"#000013\"],[0.3333333333333333,\"#000014\"],[0.4444444444444444,\"#000015\"],[0.5555555555555556,\"#000016\"],[0.6666666666666666,\"#000017\"],[0.7777777777777778,\"#000018\"],[0.8888888888888888,\"#000019\"],[1.0,\"#000020\"]],\"type\":\"contourcarpet\"}],\"contour\":[{\"colorscale\":[[0.0,\"#000011\"],[0.1111111111111111,\"#000012\"],[0.2222222222222222,\"#000013\"],[0.3333333333333333,\"#000014\"],[0.4444444444444444,\"#000015\"],[0.5555555555555556,\"#000016\"],[0.6666666666666666,\"#000017\"],[0.7777777777777778,\"#000018\"],[0.8888888888888888,\"#000019\"],[1.0,\"#000020\"]],\"type\":\"contour\"}],\"heatmap\":[{\"colorscale\":[[0.0,\"#000011\"],[0.1111111111111111,\"#000012\"],[0.2222222222222222,\"#000013\"],[0.3333333333333333,\"#000014\"],[0.4444444444444444,\"#000015\"],[0.5555555555555556,\"#000016\"],[0.6666666666666666,\"#000017\"],[0.7777777777777778,\"#000018\"],[0.8888888888888888,\"#000019\"],[1.0,\"#000020\"]],\"type\":\"heatmap\"}],\"histogram2d\":[{\"colorscale\":[[0.0,\"#000011\"],[0.1111111111111111,\"#000012\"],[0.2222222222222222,\"#000013\"],[0.3333333333333333,\"#000014\"],[0.4444444444444444,\"#000015\"],[0.5555555555555556,\"#000016\"],[0.6666666666666666,\"#000017\"],[0.7777777777777778,\"#000018\"],[0.8888888888888888,\"#000019\"],[1.0,\"#000020\"]],\"type\":\"histogram2d\"}],\"icicle\":[{\"textfont\":{\"color\":\"white\"},\"type\":\"icicle\"}],\"sankey\":[{\"textfont\":{\"color\":\"#000036\"},\"type\":\"sankey\"}],\"scatter\":[{\"marker\":{\"line\":{\"width\":0}},\"type\":\"scatter\"}],\"table\":[{\"cells\":{\"fill\":{\"color\":\"#000038\"},\"font\":{\"color\":\"#000037\"},\"line\":{\"color\":\"#000039\"}},\"header\":{\"fill\":{\"color\":\"#000040\"},\"font\":{\"color\":\"#000036\"},\"line\":{\"color\":\"#000039\"}},\"type\":\"table\"}],\"waterfall\":[{\"connector\":{\"line\":{\"color\":\"#000036\",\"width\":2}},\"decreasing\":{\"marker\":{\"color\":\"#000033\"}},\"increasing\":{\"marker\":{\"color\":\"#000032\"}},\"totals\":{\"marker\":{\"color\":\"#000034\"}},\"type\":\"waterfall\"}]},\"layout\":{\"coloraxis\":{\"colorscale\":[[0.0,\"#000011\"],[0.1111111111111111,\"#000012\"],[0.2222222222222222,\"#000013\"],[0.3333333333333333,\"#000014\"],[0.4444444444444444,\"#000015\"],[0.5555555555555556,\"#000016\"],[0.6666666666666666,\"#000017\"],[0.7777777777777778,\"#000018\"],[0.8888888888888888,\"#000019\"],[1.0,\"#000020\"]]},\"colorscale\":{\"diverging\":[[0.0,\"#000021\"],[0.1,\"#000022\"],[0.2,\"#000023\"],[0.3,\"#000024\"],[0.4,\"#000025\"],[0.5,\"#000026\"],[0.6,\"#000027\"],[0.7,\"#000028\"],[0.8,\"#000029\"],[0.9,\"#000030\"],[1.0,\"#000031\"]],\"sequential\":[[0.0,\"#000011\"],[0.1111111111111111,\"#000012\"],[0.2222222222222222,\"#000013\"],[0.3333333333333333,\"#000014\"],[0.4444444444444444,\"#000015\"],[0.5555555555555556,\"#000016\"],[0.6666666666666666,\"#000017\"],[0.7777777777777778,\"#000018\"],[0.8888888888888888,\"#000019\"],[1.0,\"#000020\"]],\"sequentialminus\":[[0.0,\"#000011\"],[0.1111111111111111,\"#000012\"],[0.2222222222222222,\"#000013\"],[0.3333333333333333,\"#000014\"],[0.4444444444444444,\"#000015\"],[0.5555555555555556,\"#000016\"],[0.6666666666666666,\"#000017\"],[0.7777777777777778,\"#000018\"],[0.8888888888888888,\"#000019\"],[1.0,\"#000020\"]]},\"colorway\":[\"#000001\",\"#000002\",\"#000003\",\"#000004\",\"#000005\",\"#000006\",\"#000007\",\"#000008\",\"#000009\",\"#000010\"]}},\"title\":{\"text\":\"AAPL - Price with Anomalies\"},\"xaxis\":{\"title\":{\"text\":\"Time\"}},\"yaxis\":{\"title\":{\"text\":\"Price\"}}},                        {\"responsive\": true}                    ).then(function(){\n",
              "                            \n",
              "var gd = document.getElementById('798643f2-671f-412d-a5ab-61140a0a1254');\n",
              "var x = new MutationObserver(function (mutations, observer) {{\n",
              "        var display = window.getComputedStyle(gd).display;\n",
              "        if (!display || display === 'none') {{\n",
              "            console.log([gd, 'removed!']);\n",
              "            Plotly.purge(gd);\n",
              "            observer.disconnect();\n",
              "        }}\n",
              "}});\n",
              "\n",
              "// Listen for the removal of the full notebook cells\n",
              "var notebookContainer = gd.closest('#notebook-container');\n",
              "if (notebookContainer) {{\n",
              "    x.observe(notebookContainer, {childList: true});\n",
              "}}\n",
              "\n",
              "// Listen for the clearing of the current output cell\n",
              "var outputEl = gd.closest('.output');\n",
              "if (outputEl) {{\n",
              "    x.observe(outputEl, {childList: true});\n",
              "}}\n",
              "\n",
              "                        })                };                            </script>        </div>\n",
              "</body>\n",
              "</html>"
            ]
          },
          "metadata": {}
        }
      ]
    },
    {
      "cell_type": "markdown",
      "source": [
        "## **6. Alerts Table**"
      ],
      "metadata": {
        "id": "8efpD414H37w"
      }
    },
    {
      "cell_type": "code",
      "source": [
        "alerts = data[(data['anomaly_price_']==-1) | (data['vol_spike']==1) | (data['z_anomaly']==1)]\n",
        "alerts[['Close_AAPL', 'Volume_AAPL', 'anomaly_price_', 'vol_spike', 'z_anomaly']].tail(10)"
      ],
      "metadata": {
        "colab": {
          "base_uri": "https://localhost:8080/",
          "height": 363
        },
        "id": "ZyCyRl4aH4au",
        "outputId": "429ff336-34b6-428d-c5a8-a72363e463c3"
      },
      "execution_count": 30,
      "outputs": [
        {
          "output_type": "execute_result",
          "data": {
            "text/plain": [
              "                           Close_AAPL  Volume_AAPL  anomaly_price_  vol_spike  \\\n",
              "Datetime                                                                        \n",
              "2025-05-23 13:30:00+00:00  195.384995      8294792               1          1   \n",
              "2025-05-23 14:25:00+00:00  197.539993       246592              -1          0   \n",
              "2025-05-23 14:26:00+00:00  197.399994       293911              -1          0   \n",
              "2025-05-23 14:27:00+00:00  197.490005       189401              -1          0   \n",
              "2025-05-23 16:04:00+00:00  195.910004       287771               1          1   \n",
              "2025-05-23 16:25:00+00:00  196.240005       208037               1          0   \n",
              "2025-05-23 18:20:00+00:00  195.600006       792450               1          1   \n",
              "2025-05-23 19:26:00+00:00  195.210007       827875               1          1   \n",
              "2025-05-23 19:27:00+00:00  195.149902       182985              -1          0   \n",
              "\n",
              "                           z_anomaly  \n",
              "Datetime                              \n",
              "2025-05-23 13:30:00+00:00          0  \n",
              "2025-05-23 14:25:00+00:00          0  \n",
              "2025-05-23 14:26:00+00:00          0  \n",
              "2025-05-23 14:27:00+00:00          0  \n",
              "2025-05-23 16:04:00+00:00          0  \n",
              "2025-05-23 16:25:00+00:00          1  \n",
              "2025-05-23 18:20:00+00:00          0  \n",
              "2025-05-23 19:26:00+00:00          0  \n",
              "2025-05-23 19:27:00+00:00          0  "
            ],
            "text/html": [
              "\n",
              "  <div id=\"df-45f43ea7-edc7-4e22-9ad2-6fa567a080d5\" class=\"colab-df-container\">\n",
              "    <div>\n",
              "<style scoped>\n",
              "    .dataframe tbody tr th:only-of-type {\n",
              "        vertical-align: middle;\n",
              "    }\n",
              "\n",
              "    .dataframe tbody tr th {\n",
              "        vertical-align: top;\n",
              "    }\n",
              "\n",
              "    .dataframe thead th {\n",
              "        text-align: right;\n",
              "    }\n",
              "</style>\n",
              "<table border=\"1\" class=\"dataframe\">\n",
              "  <thead>\n",
              "    <tr style=\"text-align: right;\">\n",
              "      <th></th>\n",
              "      <th>Close_AAPL</th>\n",
              "      <th>Volume_AAPL</th>\n",
              "      <th>anomaly_price_</th>\n",
              "      <th>vol_spike</th>\n",
              "      <th>z_anomaly</th>\n",
              "    </tr>\n",
              "    <tr>\n",
              "      <th>Datetime</th>\n",
              "      <th></th>\n",
              "      <th></th>\n",
              "      <th></th>\n",
              "      <th></th>\n",
              "      <th></th>\n",
              "    </tr>\n",
              "  </thead>\n",
              "  <tbody>\n",
              "    <tr>\n",
              "      <th>2025-05-23 13:30:00+00:00</th>\n",
              "      <td>195.384995</td>\n",
              "      <td>8294792</td>\n",
              "      <td>1</td>\n",
              "      <td>1</td>\n",
              "      <td>0</td>\n",
              "    </tr>\n",
              "    <tr>\n",
              "      <th>2025-05-23 14:25:00+00:00</th>\n",
              "      <td>197.539993</td>\n",
              "      <td>246592</td>\n",
              "      <td>-1</td>\n",
              "      <td>0</td>\n",
              "      <td>0</td>\n",
              "    </tr>\n",
              "    <tr>\n",
              "      <th>2025-05-23 14:26:00+00:00</th>\n",
              "      <td>197.399994</td>\n",
              "      <td>293911</td>\n",
              "      <td>-1</td>\n",
              "      <td>0</td>\n",
              "      <td>0</td>\n",
              "    </tr>\n",
              "    <tr>\n",
              "      <th>2025-05-23 14:27:00+00:00</th>\n",
              "      <td>197.490005</td>\n",
              "      <td>189401</td>\n",
              "      <td>-1</td>\n",
              "      <td>0</td>\n",
              "      <td>0</td>\n",
              "    </tr>\n",
              "    <tr>\n",
              "      <th>2025-05-23 16:04:00+00:00</th>\n",
              "      <td>195.910004</td>\n",
              "      <td>287771</td>\n",
              "      <td>1</td>\n",
              "      <td>1</td>\n",
              "      <td>0</td>\n",
              "    </tr>\n",
              "    <tr>\n",
              "      <th>2025-05-23 16:25:00+00:00</th>\n",
              "      <td>196.240005</td>\n",
              "      <td>208037</td>\n",
              "      <td>1</td>\n",
              "      <td>0</td>\n",
              "      <td>1</td>\n",
              "    </tr>\n",
              "    <tr>\n",
              "      <th>2025-05-23 18:20:00+00:00</th>\n",
              "      <td>195.600006</td>\n",
              "      <td>792450</td>\n",
              "      <td>1</td>\n",
              "      <td>1</td>\n",
              "      <td>0</td>\n",
              "    </tr>\n",
              "    <tr>\n",
              "      <th>2025-05-23 19:26:00+00:00</th>\n",
              "      <td>195.210007</td>\n",
              "      <td>827875</td>\n",
              "      <td>1</td>\n",
              "      <td>1</td>\n",
              "      <td>0</td>\n",
              "    </tr>\n",
              "    <tr>\n",
              "      <th>2025-05-23 19:27:00+00:00</th>\n",
              "      <td>195.149902</td>\n",
              "      <td>182985</td>\n",
              "      <td>-1</td>\n",
              "      <td>0</td>\n",
              "      <td>0</td>\n",
              "    </tr>\n",
              "  </tbody>\n",
              "</table>\n",
              "</div>\n",
              "    <div class=\"colab-df-buttons\">\n",
              "\n",
              "  <div class=\"colab-df-container\">\n",
              "    <button class=\"colab-df-convert\" onclick=\"convertToInteractive('df-45f43ea7-edc7-4e22-9ad2-6fa567a080d5')\"\n",
              "            title=\"Convert this dataframe to an interactive table.\"\n",
              "            style=\"display:none;\">\n",
              "\n",
              "  <svg xmlns=\"http://www.w3.org/2000/svg\" height=\"24px\" viewBox=\"0 -960 960 960\">\n",
              "    <path d=\"M120-120v-720h720v720H120Zm60-500h600v-160H180v160Zm220 220h160v-160H400v160Zm0 220h160v-160H400v160ZM180-400h160v-160H180v160Zm440 0h160v-160H620v160ZM180-180h160v-160H180v160Zm440 0h160v-160H620v160Z\"/>\n",
              "  </svg>\n",
              "    </button>\n",
              "\n",
              "  <style>\n",
              "    .colab-df-container {\n",
              "      display:flex;\n",
              "      gap: 12px;\n",
              "    }\n",
              "\n",
              "    .colab-df-convert {\n",
              "      background-color: #E8F0FE;\n",
              "      border: none;\n",
              "      border-radius: 50%;\n",
              "      cursor: pointer;\n",
              "      display: none;\n",
              "      fill: #1967D2;\n",
              "      height: 32px;\n",
              "      padding: 0 0 0 0;\n",
              "      width: 32px;\n",
              "    }\n",
              "\n",
              "    .colab-df-convert:hover {\n",
              "      background-color: #E2EBFA;\n",
              "      box-shadow: 0px 1px 2px rgba(60, 64, 67, 0.3), 0px 1px 3px 1px rgba(60, 64, 67, 0.15);\n",
              "      fill: #174EA6;\n",
              "    }\n",
              "\n",
              "    .colab-df-buttons div {\n",
              "      margin-bottom: 4px;\n",
              "    }\n",
              "\n",
              "    [theme=dark] .colab-df-convert {\n",
              "      background-color: #3B4455;\n",
              "      fill: #D2E3FC;\n",
              "    }\n",
              "\n",
              "    [theme=dark] .colab-df-convert:hover {\n",
              "      background-color: #434B5C;\n",
              "      box-shadow: 0px 1px 3px 1px rgba(0, 0, 0, 0.15);\n",
              "      filter: drop-shadow(0px 1px 2px rgba(0, 0, 0, 0.3));\n",
              "      fill: #FFFFFF;\n",
              "    }\n",
              "  </style>\n",
              "\n",
              "    <script>\n",
              "      const buttonEl =\n",
              "        document.querySelector('#df-45f43ea7-edc7-4e22-9ad2-6fa567a080d5 button.colab-df-convert');\n",
              "      buttonEl.style.display =\n",
              "        google.colab.kernel.accessAllowed ? 'block' : 'none';\n",
              "\n",
              "      async function convertToInteractive(key) {\n",
              "        const element = document.querySelector('#df-45f43ea7-edc7-4e22-9ad2-6fa567a080d5');\n",
              "        const dataTable =\n",
              "          await google.colab.kernel.invokeFunction('convertToInteractive',\n",
              "                                                    [key], {});\n",
              "        if (!dataTable) return;\n",
              "\n",
              "        const docLinkHtml = 'Like what you see? Visit the ' +\n",
              "          '<a target=\"_blank\" href=https://colab.research.google.com/notebooks/data_table.ipynb>data table notebook</a>'\n",
              "          + ' to learn more about interactive tables.';\n",
              "        element.innerHTML = '';\n",
              "        dataTable['output_type'] = 'display_data';\n",
              "        await google.colab.output.renderOutput(dataTable, element);\n",
              "        const docLink = document.createElement('div');\n",
              "        docLink.innerHTML = docLinkHtml;\n",
              "        element.appendChild(docLink);\n",
              "      }\n",
              "    </script>\n",
              "  </div>\n",
              "\n",
              "\n",
              "    <div id=\"df-d6fd125b-137f-4ebd-84a7-00f77f5c9e6d\">\n",
              "      <button class=\"colab-df-quickchart\" onclick=\"quickchart('df-d6fd125b-137f-4ebd-84a7-00f77f5c9e6d')\"\n",
              "                title=\"Suggest charts\"\n",
              "                style=\"display:none;\">\n",
              "\n",
              "<svg xmlns=\"http://www.w3.org/2000/svg\" height=\"24px\"viewBox=\"0 0 24 24\"\n",
              "     width=\"24px\">\n",
              "    <g>\n",
              "        <path d=\"M19 3H5c-1.1 0-2 .9-2 2v14c0 1.1.9 2 2 2h14c1.1 0 2-.9 2-2V5c0-1.1-.9-2-2-2zM9 17H7v-7h2v7zm4 0h-2V7h2v10zm4 0h-2v-4h2v4z\"/>\n",
              "    </g>\n",
              "</svg>\n",
              "      </button>\n",
              "\n",
              "<style>\n",
              "  .colab-df-quickchart {\n",
              "      --bg-color: #E8F0FE;\n",
              "      --fill-color: #1967D2;\n",
              "      --hover-bg-color: #E2EBFA;\n",
              "      --hover-fill-color: #174EA6;\n",
              "      --disabled-fill-color: #AAA;\n",
              "      --disabled-bg-color: #DDD;\n",
              "  }\n",
              "\n",
              "  [theme=dark] .colab-df-quickchart {\n",
              "      --bg-color: #3B4455;\n",
              "      --fill-color: #D2E3FC;\n",
              "      --hover-bg-color: #434B5C;\n",
              "      --hover-fill-color: #FFFFFF;\n",
              "      --disabled-bg-color: #3B4455;\n",
              "      --disabled-fill-color: #666;\n",
              "  }\n",
              "\n",
              "  .colab-df-quickchart {\n",
              "    background-color: var(--bg-color);\n",
              "    border: none;\n",
              "    border-radius: 50%;\n",
              "    cursor: pointer;\n",
              "    display: none;\n",
              "    fill: var(--fill-color);\n",
              "    height: 32px;\n",
              "    padding: 0;\n",
              "    width: 32px;\n",
              "  }\n",
              "\n",
              "  .colab-df-quickchart:hover {\n",
              "    background-color: var(--hover-bg-color);\n",
              "    box-shadow: 0 1px 2px rgba(60, 64, 67, 0.3), 0 1px 3px 1px rgba(60, 64, 67, 0.15);\n",
              "    fill: var(--button-hover-fill-color);\n",
              "  }\n",
              "\n",
              "  .colab-df-quickchart-complete:disabled,\n",
              "  .colab-df-quickchart-complete:disabled:hover {\n",
              "    background-color: var(--disabled-bg-color);\n",
              "    fill: var(--disabled-fill-color);\n",
              "    box-shadow: none;\n",
              "  }\n",
              "\n",
              "  .colab-df-spinner {\n",
              "    border: 2px solid var(--fill-color);\n",
              "    border-color: transparent;\n",
              "    border-bottom-color: var(--fill-color);\n",
              "    animation:\n",
              "      spin 1s steps(1) infinite;\n",
              "  }\n",
              "\n",
              "  @keyframes spin {\n",
              "    0% {\n",
              "      border-color: transparent;\n",
              "      border-bottom-color: var(--fill-color);\n",
              "      border-left-color: var(--fill-color);\n",
              "    }\n",
              "    20% {\n",
              "      border-color: transparent;\n",
              "      border-left-color: var(--fill-color);\n",
              "      border-top-color: var(--fill-color);\n",
              "    }\n",
              "    30% {\n",
              "      border-color: transparent;\n",
              "      border-left-color: var(--fill-color);\n",
              "      border-top-color: var(--fill-color);\n",
              "      border-right-color: var(--fill-color);\n",
              "    }\n",
              "    40% {\n",
              "      border-color: transparent;\n",
              "      border-right-color: var(--fill-color);\n",
              "      border-top-color: var(--fill-color);\n",
              "    }\n",
              "    60% {\n",
              "      border-color: transparent;\n",
              "      border-right-color: var(--fill-color);\n",
              "    }\n",
              "    80% {\n",
              "      border-color: transparent;\n",
              "      border-right-color: var(--fill-color);\n",
              "      border-bottom-color: var(--fill-color);\n",
              "    }\n",
              "    90% {\n",
              "      border-color: transparent;\n",
              "      border-bottom-color: var(--fill-color);\n",
              "    }\n",
              "  }\n",
              "</style>\n",
              "\n",
              "      <script>\n",
              "        async function quickchart(key) {\n",
              "          const quickchartButtonEl =\n",
              "            document.querySelector('#' + key + ' button');\n",
              "          quickchartButtonEl.disabled = true;  // To prevent multiple clicks.\n",
              "          quickchartButtonEl.classList.add('colab-df-spinner');\n",
              "          try {\n",
              "            const charts = await google.colab.kernel.invokeFunction(\n",
              "                'suggestCharts', [key], {});\n",
              "          } catch (error) {\n",
              "            console.error('Error during call to suggestCharts:', error);\n",
              "          }\n",
              "          quickchartButtonEl.classList.remove('colab-df-spinner');\n",
              "          quickchartButtonEl.classList.add('colab-df-quickchart-complete');\n",
              "        }\n",
              "        (() => {\n",
              "          let quickchartButtonEl =\n",
              "            document.querySelector('#df-d6fd125b-137f-4ebd-84a7-00f77f5c9e6d button');\n",
              "          quickchartButtonEl.style.display =\n",
              "            google.colab.kernel.accessAllowed ? 'block' : 'none';\n",
              "        })();\n",
              "      </script>\n",
              "    </div>\n",
              "\n",
              "    </div>\n",
              "  </div>\n"
            ],
            "application/vnd.google.colaboratory.intrinsic+json": {
              "type": "dataframe",
              "summary": "{\n  \"name\": \"alerts[['Close_AAPL', 'Volume_AAPL', 'anomaly_price_', 'vol_spike', 'z_anomaly']]\",\n  \"rows\": 9,\n  \"fields\": [\n    {\n      \"column\": \"Datetime\",\n      \"properties\": {\n        \"dtype\": \"date\",\n        \"min\": \"2025-05-23 13:30:00+00:00\",\n        \"max\": \"2025-05-23 19:27:00+00:00\",\n        \"num_unique_values\": 9,\n        \"samples\": [\n          \"2025-05-23 19:26:00+00:00\",\n          \"2025-05-23 14:25:00+00:00\",\n          \"2025-05-23 16:25:00+00:00\"\n        ],\n        \"semantic_type\": \"\",\n        \"description\": \"\"\n      }\n    },\n    {\n      \"column\": \"Close_AAPL\",\n      \"properties\": {\n        \"dtype\": \"number\",\n        \"std\": 1.0056505740491115,\n        \"min\": 195.14990234375,\n        \"max\": 197.5399932861328,\n        \"num_unique_values\": 9,\n        \"samples\": [\n          195.2100067138672,\n          197.5399932861328,\n          196.24000549316406\n        ],\n        \"semantic_type\": \"\",\n        \"description\": \"\"\n      }\n    },\n    {\n      \"column\": \"Volume_AAPL\",\n      \"properties\": {\n        \"dtype\": \"number\",\n        \"std\": 2650752,\n        \"min\": 182985,\n        \"max\": 8294792,\n        \"num_unique_values\": 9,\n        \"samples\": [\n          827875,\n          246592,\n          208037\n        ],\n        \"semantic_type\": \"\",\n        \"description\": \"\"\n      }\n    },\n    {\n      \"column\": \"anomaly_price_\",\n      \"properties\": {\n        \"dtype\": \"number\",\n        \"std\": 1,\n        \"min\": -1,\n        \"max\": 1,\n        \"num_unique_values\": 2,\n        \"samples\": [\n          -1,\n          1\n        ],\n        \"semantic_type\": \"\",\n        \"description\": \"\"\n      }\n    },\n    {\n      \"column\": \"vol_spike\",\n      \"properties\": {\n        \"dtype\": \"number\",\n        \"std\": 0,\n        \"min\": 0,\n        \"max\": 1,\n        \"num_unique_values\": 2,\n        \"samples\": [\n          0,\n          1\n        ],\n        \"semantic_type\": \"\",\n        \"description\": \"\"\n      }\n    },\n    {\n      \"column\": \"z_anomaly\",\n      \"properties\": {\n        \"dtype\": \"number\",\n        \"std\": 0,\n        \"min\": 0,\n        \"max\": 1,\n        \"num_unique_values\": 2,\n        \"samples\": [\n          1,\n          0\n        ],\n        \"semantic_type\": \"\",\n        \"description\": \"\"\n      }\n    }\n  ]\n}"
            }
          },
          "metadata": {},
          "execution_count": 30
        }
      ]
    },
    {
      "cell_type": "code",
      "source": [
        "# Save the alerts table to a CSV file\n",
        "alerts[['Close_AAPL', 'Volume_AAPL', 'anomaly_price_', 'vol_spike', 'z_anomaly']].to_csv(\"market_anomaly_alerts.csv\", index=True)\n",
        "\n",
        "print(\"📁 Alerts table saved as 'market_anomaly_alerts.csv'\")"
      ],
      "metadata": {
        "colab": {
          "base_uri": "https://localhost:8080/"
        },
        "id": "t5N0TLjfH9PF",
        "outputId": "64d96409-a0f9-464a-ac56-7494ba66bf57"
      },
      "execution_count": 31,
      "outputs": [
        {
          "output_type": "stream",
          "name": "stdout",
          "text": [
            "📁 Alerts table saved as 'market_anomaly_alerts.csv'\n"
          ]
        }
      ]
    },
    {
      "cell_type": "markdown",
      "source": [
        "## **7. Backtesting Strategy (Signal Validation)**"
      ],
      "metadata": {
        "id": "3GDXj4d6IEFI"
      }
    },
    {
      "cell_type": "code",
      "source": [
        "data['position'] = np.where(data['anomaly_price_'] == -1, -1, 1)\n",
        "data['returns_strategy'] = data['returns_'] * data['position'].shift(1)\n",
        "cumulative_returns = (1 + data['returns_strategy']).cumprod()\n",
        "\n",
        "cumulative_returns.plot(title=\"📈 Cumulative Returns from Anomaly-Based Strategy\")\n"
      ],
      "metadata": {
        "colab": {
          "base_uri": "https://localhost:8080/",
          "height": 619
        },
        "id": "rS7RpIUAIFXm",
        "outputId": "da57de59-cd26-4a1d-f53a-edec40b50534"
      },
      "execution_count": 34,
      "outputs": [
        {
          "output_type": "execute_result",
          "data": {
            "text/plain": [
              "<Axes: title={'center': '📈 Cumulative Returns from Anomaly-Based Strategy'}, xlabel='Datetime'>"
            ]
          },
          "metadata": {},
          "execution_count": 34
        },
        {
          "output_type": "stream",
          "name": "stderr",
          "text": [
            "/usr/local/lib/python3.11/dist-packages/IPython/core/events.py:89: UserWarning:\n",
            "\n",
            "Glyph 128200 (\\N{CHART WITH UPWARDS TREND}) missing from font(s) DejaVu Sans.\n",
            "\n",
            "/usr/local/lib/python3.11/dist-packages/IPython/core/pylabtools.py:151: UserWarning:\n",
            "\n",
            "Glyph 128200 (\\N{CHART WITH UPWARDS TREND}) missing from font(s) DejaVu Sans.\n",
            "\n"
          ]
        },
        {
          "output_type": "display_data",
          "data": {
            "text/plain": [
              "<Figure size 640x480 with 1 Axes>"
            ],
            "image/png": "[encoded data removed]"
          },
          "metadata": {}
        }
      ]
    }
  ]
}